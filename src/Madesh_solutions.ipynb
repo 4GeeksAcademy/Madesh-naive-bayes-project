{
 "cells": [
  {
   "cell_type": "markdown",
   "metadata": {},
   "source": [
    "# Naive Bayes Model: Google Play Store Reviews \n",
    "## 1. Import Modules "
   ]
  },
  {
   "cell_type": "code",
   "execution_count": 1,
   "metadata": {},
   "outputs": [],
   "source": [
    "import numpy as np\n",
    "import pandas as pd\n",
    "import matplotlib.pyplot as plt\n",
    "import seaborn as sns\n",
    "from sklearn.model_selection import train_test_split, cross_val_score\n",
    "from sklearn.feature_extraction.text import CountVectorizer\n",
    "from sklearn.linear_model import LogisticRegression\n",
    "from sklearn.metrics import accuracy_score, confusion_matrix, ConfusionMatrixDisplay\n",
    "from sklearn.naive_bayes import MultinomialNB, GaussianNB, BernoulliNB"
   ]
  },
  {
   "cell_type": "markdown",
   "metadata": {},
   "source": [
    "## 2. Data Preparation \n",
    "### 2.1 Data download from CSV file "
   ]
  },
  {
   "cell_type": "code",
   "execution_count": 2,
   "metadata": {},
   "outputs": [],
   "source": [
    "data_df=pd.read_csv('https://raw.githubusercontent.com/4GeeksAcademy/naive-bayes-project-tutorial/main/playstore_reviews.csv')"
   ]
  },
  {
   "cell_type": "markdown",
   "metadata": {},
   "source": [
    "### 2.2 Data Inspection "
   ]
  },
  {
   "cell_type": "code",
   "execution_count": 5,
   "metadata": {},
   "outputs": [
    {
     "data": {
      "application/vnd.microsoft.datawrangler.viewer.v0+json": {
       "columns": [
        {
         "name": "index",
         "rawType": "object",
         "type": "string"
        },
        {
         "name": "0",
         "rawType": "object",
         "type": "unknown"
        },
        {
         "name": "1",
         "rawType": "object",
         "type": "unknown"
        },
        {
         "name": "2",
         "rawType": "object",
         "type": "unknown"
        },
        {
         "name": "3",
         "rawType": "object",
         "type": "unknown"
        },
        {
         "name": "4",
         "rawType": "object",
         "type": "unknown"
        }
       ],
       "conversionMethod": "pd.DataFrame",
       "ref": "22cac982-6004-449f-a9f0-4a9faa38e17d",
       "rows": [
        [
         "package_name",
         "com.facebook.katana",
         "com.facebook.katana",
         "com.facebook.katana",
         "com.facebook.katana",
         "com.facebook.katana"
        ],
        [
         "review",
         " privacy at least put some option appear offline. i mean for some people like me it's a big pressure to be seen online like you need to response on every message or else you be called seenzone only. if only i wanna do on facebook is to read on my newsfeed and just wanna response on message i want to. pls reconsidered my review. i tried to turn off chat but still can see me as online.",
         " messenger issues ever since the last update, initial received messages don't get pushed to the messenger app and you don't get notification in the facebook app or messenger app. you open the facebook app and happen to see you have a message. you have to click the icon and it opens messenger. subsequent messages go through messenger app, unless you close the chat head... then you start over with no notification and having to go through the facebook app.",
         " profile any time my wife or anybody has more than one post and i view them it would take me to there profile so that i can view them all at once. now when i try to view them it tells me that the page that i requested is not available. i've restarted my phone i even cleard the cache and i've uninstalled and reinstalled the app and it is still doing it. please fix it thank you",
         " the new features suck for those of us who don't have a working back button can you guys make the videos able to be slid to the left to exit the video. as i have to force close facebook to exit",
         " forced reload on uploading pic on replying comment last night i tried to reply a comment by uploading a photo from my phone. when i press on the button to select photos the app automatically goes back to the main page. on other occasions, i could enter to my gallery to select my image but as soon as i selected an image and press done, the program, again, forced reload and suddenly go back to the main page. please fix this and i will change my rating. thank you."
        ],
        [
         "polarity",
         "0",
         "0",
         "0",
         "0",
         "0"
        ]
       ],
       "shape": {
        "columns": 5,
        "rows": 3
       }
      },
      "text/html": [
       "<div>\n",
       "<style scoped>\n",
       "    .dataframe tbody tr th:only-of-type {\n",
       "        vertical-align: middle;\n",
       "    }\n",
       "\n",
       "    .dataframe tbody tr th {\n",
       "        vertical-align: top;\n",
       "    }\n",
       "\n",
       "    .dataframe thead th {\n",
       "        text-align: right;\n",
       "    }\n",
       "</style>\n",
       "<table border=\"1\" class=\"dataframe\">\n",
       "  <thead>\n",
       "    <tr style=\"text-align: right;\">\n",
       "      <th></th>\n",
       "      <th>0</th>\n",
       "      <th>1</th>\n",
       "      <th>2</th>\n",
       "      <th>3</th>\n",
       "      <th>4</th>\n",
       "    </tr>\n",
       "  </thead>\n",
       "  <tbody>\n",
       "    <tr>\n",
       "      <th>package_name</th>\n",
       "      <td>com.facebook.katana</td>\n",
       "      <td>com.facebook.katana</td>\n",
       "      <td>com.facebook.katana</td>\n",
       "      <td>com.facebook.katana</td>\n",
       "      <td>com.facebook.katana</td>\n",
       "    </tr>\n",
       "    <tr>\n",
       "      <th>review</th>\n",
       "      <td>privacy at least put some option appear offli...</td>\n",
       "      <td>messenger issues ever since the last update, ...</td>\n",
       "      <td>profile any time my wife or anybody has more ...</td>\n",
       "      <td>the new features suck for those of us who don...</td>\n",
       "      <td>forced reload on uploading pic on replying co...</td>\n",
       "    </tr>\n",
       "    <tr>\n",
       "      <th>polarity</th>\n",
       "      <td>0</td>\n",
       "      <td>0</td>\n",
       "      <td>0</td>\n",
       "      <td>0</td>\n",
       "      <td>0</td>\n",
       "    </tr>\n",
       "  </tbody>\n",
       "</table>\n",
       "</div>"
      ],
      "text/plain": [
       "                                                              0  \\\n",
       "package_name                                com.facebook.katana   \n",
       "review         privacy at least put some option appear offli...   \n",
       "polarity                                                      0   \n",
       "\n",
       "                                                              1  \\\n",
       "package_name                                com.facebook.katana   \n",
       "review         messenger issues ever since the last update, ...   \n",
       "polarity                                                      0   \n",
       "\n",
       "                                                              2  \\\n",
       "package_name                                com.facebook.katana   \n",
       "review         profile any time my wife or anybody has more ...   \n",
       "polarity                                                      0   \n",
       "\n",
       "                                                              3  \\\n",
       "package_name                                com.facebook.katana   \n",
       "review         the new features suck for those of us who don...   \n",
       "polarity                                                      0   \n",
       "\n",
       "                                                              4  \n",
       "package_name                                com.facebook.katana  \n",
       "review         forced reload on uploading pic on replying co...  \n",
       "polarity                                                      0  "
      ]
     },
     "execution_count": 5,
     "metadata": {},
     "output_type": "execute_result"
    }
   ],
   "source": [
    "data_df.head().T"
   ]
  },
  {
   "cell_type": "code",
   "execution_count": 6,
   "metadata": {},
   "outputs": [
    {
     "name": "stdout",
     "output_type": "stream",
     "text": [
      "<class 'pandas.core.frame.DataFrame'>\n",
      "RangeIndex: 891 entries, 0 to 890\n",
      "Data columns (total 3 columns):\n",
      " #   Column        Non-Null Count  Dtype \n",
      "---  ------        --------------  ----- \n",
      " 0   package_name  891 non-null    object\n",
      " 1   review        891 non-null    object\n",
      " 2   polarity      891 non-null    int64 \n",
      "dtypes: int64(1), object(2)\n",
      "memory usage: 21.0+ KB\n"
     ]
    }
   ],
   "source": [
    "data_df.info()"
   ]
  },
  {
   "cell_type": "markdown",
   "metadata": {},
   "source": [
    "### 2.3 Train-test split "
   ]
  },
  {
   "cell_type": "code",
   "execution_count": 7,
   "metadata": {},
   "outputs": [],
   "source": [
    "training_df, testing_df=train_test_split(data_df, test_size=0.3, random_state=315)"
   ]
  },
  {
   "cell_type": "code",
   "execution_count": 8,
   "metadata": {},
   "outputs": [
    {
     "data": {
      "application/vnd.microsoft.datawrangler.viewer.v0+json": {
       "columns": [
        {
         "name": "index",
         "rawType": "object",
         "type": "string"
        },
        {
         "name": "106",
         "rawType": "object",
         "type": "unknown"
        },
        {
         "name": "4",
         "rawType": "object",
         "type": "unknown"
        },
        {
         "name": "589",
         "rawType": "object",
         "type": "unknown"
        },
        {
         "name": "712",
         "rawType": "object",
         "type": "unknown"
        },
        {
         "name": "592",
         "rawType": "object",
         "type": "unknown"
        }
       ],
       "conversionMethod": "pd.DataFrame",
       "ref": "8217ef89-7c5d-4c59-95fb-8585a08a2488",
       "rows": [
        [
         "package_name",
         "com.linkedin.android",
         "com.facebook.katana",
         "com.evernote",
         "com.opera.mini.native",
         "com.evernote"
        ],
        [
         "review",
         " why can't i share my achievements? recently discovered that there is a feature for sharing any kind of achievement, however i can't accomplish it on my profile",
         " forced reload on uploading pic on replying comment last night i tried to reply a comment by uploading a photo from my phone. when i press on the button to select photos the app automatically goes back to the main page. on other occasions, i could enter to my gallery to select my image but as soon as i selected an image and press done, the program, again, forced reload and suddenly go back to the main page. please fix this and i will change my rating. thank you.",
         " very user friendly! for those looking for a straight forward note taking app that syncs across devices and has user friendly features, look no further! evernote simplified my electronic note taking with charm",
         " save image and low performance can not save an image from google image and performance google search very heavy for low devices. i miss opera classic.",
         " too much going on its cool it works but ony using it because i have to its got way to much going on for a note pad.. adds in useless irrelevant information like i made a note on a friends birthday now it says from so and sos birthday but it works great just wish it was just a plain jane note pad like the one htc used this app to replace. if there was a way to over complicate a note pad app they did it.it works great like i said and it takes some getting used to and it grows on you.."
        ],
        [
         "polarity",
         "0",
         "0",
         "1",
         "0",
         "1"
        ]
       ],
       "shape": {
        "columns": 5,
        "rows": 3
       }
      },
      "text/html": [
       "<div>\n",
       "<style scoped>\n",
       "    .dataframe tbody tr th:only-of-type {\n",
       "        vertical-align: middle;\n",
       "    }\n",
       "\n",
       "    .dataframe tbody tr th {\n",
       "        vertical-align: top;\n",
       "    }\n",
       "\n",
       "    .dataframe thead th {\n",
       "        text-align: right;\n",
       "    }\n",
       "</style>\n",
       "<table border=\"1\" class=\"dataframe\">\n",
       "  <thead>\n",
       "    <tr style=\"text-align: right;\">\n",
       "      <th></th>\n",
       "      <th>106</th>\n",
       "      <th>4</th>\n",
       "      <th>589</th>\n",
       "      <th>712</th>\n",
       "      <th>592</th>\n",
       "    </tr>\n",
       "  </thead>\n",
       "  <tbody>\n",
       "    <tr>\n",
       "      <th>package_name</th>\n",
       "      <td>com.linkedin.android</td>\n",
       "      <td>com.facebook.katana</td>\n",
       "      <td>com.evernote</td>\n",
       "      <td>com.opera.mini.native</td>\n",
       "      <td>com.evernote</td>\n",
       "    </tr>\n",
       "    <tr>\n",
       "      <th>review</th>\n",
       "      <td>why can't i share my achievements? recently d...</td>\n",
       "      <td>forced reload on uploading pic on replying co...</td>\n",
       "      <td>very user friendly! for those looking for a s...</td>\n",
       "      <td>save image and low performance can not save a...</td>\n",
       "      <td>too much going on its cool it works but ony u...</td>\n",
       "    </tr>\n",
       "    <tr>\n",
       "      <th>polarity</th>\n",
       "      <td>0</td>\n",
       "      <td>0</td>\n",
       "      <td>1</td>\n",
       "      <td>0</td>\n",
       "      <td>1</td>\n",
       "    </tr>\n",
       "  </tbody>\n",
       "</table>\n",
       "</div>"
      ],
      "text/plain": [
       "                                                            106  \\\n",
       "package_name                               com.linkedin.android   \n",
       "review         why can't i share my achievements? recently d...   \n",
       "polarity                                                      0   \n",
       "\n",
       "                                                            4    \\\n",
       "package_name                                com.facebook.katana   \n",
       "review         forced reload on uploading pic on replying co...   \n",
       "polarity                                                      0   \n",
       "\n",
       "                                                            589  \\\n",
       "package_name                                       com.evernote   \n",
       "review         very user friendly! for those looking for a s...   \n",
       "polarity                                                      1   \n",
       "\n",
       "                                                            712  \\\n",
       "package_name                              com.opera.mini.native   \n",
       "review         save image and low performance can not save a...   \n",
       "polarity                                                      0   \n",
       "\n",
       "                                                            592  \n",
       "package_name                                       com.evernote  \n",
       "review         too much going on its cool it works but ony u...  \n",
       "polarity                                                      1  "
      ]
     },
     "execution_count": 8,
     "metadata": {},
     "output_type": "execute_result"
    }
   ],
   "source": [
    "training_df.head().T"
   ]
  },
  {
   "cell_type": "markdown",
   "metadata": {},
   "source": [
    "### 2.4 Data Encoding "
   ]
  },
  {
   "cell_type": "code",
   "execution_count": 9,
   "metadata": {},
   "outputs": [
    {
     "data": {
      "text/plain": [
       "106     why can't i share my achievements? recently d...\n",
       "4       forced reload on uploading pic on replying co...\n",
       "589     very user friendly! for those looking for a s...\n",
       "712     save image and low performance can not save a...\n",
       "592     too much going on its cool it works but ony u...\n",
       "Name: review, dtype: object"
      ]
     },
     "execution_count": 9,
     "metadata": {},
     "output_type": "execute_result"
    }
   ],
   "source": [
    "training_reviews=training_df['review']\n",
    "testing_reviews=testing_df['review']\n",
    "training_reviews.head()"
   ]
  },
  {
   "cell_type": "code",
   "execution_count": 10,
   "metadata": {},
   "outputs": [
    {
     "name": "stdout",
     "output_type": "stream",
     "text": [
      "<class 'pandas.core.series.Series'>\n",
      "Index: 623 entries, 106 to 873\n",
      "Series name: review\n",
      "Non-Null Count  Dtype \n",
      "--------------  ----- \n",
      "623 non-null    object\n",
      "dtypes: object(1)\n",
      "memory usage: 9.7+ KB\n"
     ]
    }
   ],
   "source": [
    "training_reviews.info()"
   ]
  },
  {
   "cell_type": "code",
   "execution_count": 11,
   "metadata": {},
   "outputs": [
    {
     "name": "stdout",
     "output_type": "stream",
     "text": [
      "<class 'pandas.core.series.Series'>\n",
      "Index: 268 entries, 393 to 699\n",
      "Series name: review\n",
      "Non-Null Count  Dtype \n",
      "--------------  ----- \n",
      "268 non-null    object\n",
      "dtypes: object(1)\n",
      "memory usage: 4.2+ KB\n"
     ]
    }
   ],
   "source": [
    "testing_reviews.info()"
   ]
  },
  {
   "cell_type": "code",
   "execution_count": 12,
   "metadata": {},
   "outputs": [
    {
     "name": "stdout",
     "output_type": "stream",
     "text": [
      "Word count matrix has 623 rows and 3012 columns\n"
     ]
    }
   ],
   "source": [
    "vector_model=CountVectorizer(stop_words=\"english\")\n",
    "vector_model.fit(training_reviews)\n",
    "training_word_counts=vector_model.transform(training_reviews).toarray()\n",
    "testing_word_counts=vector_model.transform(testing_reviews).toarray()\n",
    "\n",
    "print(f'Word count matrix has {training_word_counts.shape[0]} rows and {training_word_counts.shape[1]} columns')"
   ]
  },
  {
   "cell_type": "code",
   "execution_count": 13,
   "metadata": {},
   "outputs": [
    {
     "data": {
      "text/plain": [
       "array([0, 0, 0, ..., 0, 0, 0], shape=(3012,))"
      ]
     },
     "execution_count": 13,
     "metadata": {},
     "output_type": "execute_result"
    }
   ],
   "source": [
    "training_word_counts[0]\n"
   ]
  },
  {
   "cell_type": "code",
   "execution_count": 14,
   "metadata": {},
   "outputs": [
    {
     "data": {
      "application/vnd.microsoft.datawrangler.viewer.v0+json": {
       "columns": [
        {
         "name": "index",
         "rawType": "object",
         "type": "string"
        },
        {
         "name": "0",
         "rawType": "int64",
         "type": "integer"
        },
        {
         "name": "1",
         "rawType": "int64",
         "type": "integer"
        },
        {
         "name": "2",
         "rawType": "int64",
         "type": "integer"
        },
        {
         "name": "3",
         "rawType": "int64",
         "type": "integer"
        },
        {
         "name": "4",
         "rawType": "int64",
         "type": "integer"
        }
       ],
       "conversionMethod": "pd.DataFrame",
       "ref": "8c30a184-0d35-4653-a681-47ab880a7b1b",
       "rows": [
        [
         "000",
         "0",
         "0",
         "0",
         "0",
         "0"
        ],
        [
         "04",
         "0",
         "0",
         "0",
         "0",
         "0"
        ],
        [
         "0x",
         "0",
         "0",
         "0",
         "0",
         "0"
        ],
        [
         "10",
         "0",
         "0",
         "0",
         "0",
         "0"
        ],
        [
         "100",
         "0",
         "0",
         "0",
         "0",
         "0"
        ],
        [
         "101",
         "0",
         "0",
         "0",
         "0",
         "0"
        ],
        [
         "11",
         "0",
         "0",
         "0",
         "0",
         "0"
        ],
        [
         "1186",
         "0",
         "0",
         "0",
         "0",
         "0"
        ],
        [
         "12",
         "0",
         "0",
         "0",
         "0",
         "0"
        ],
        [
         "125",
         "0",
         "0",
         "0",
         "0",
         "0"
        ],
        [
         "13",
         "0",
         "0",
         "0",
         "0",
         "0"
        ],
        [
         "14",
         "0",
         "0",
         "0",
         "0",
         "0"
        ],
        [
         "14th",
         "0",
         "0",
         "0",
         "0",
         "0"
        ],
        [
         "15",
         "0",
         "0",
         "0",
         "0",
         "0"
        ],
        [
         "15mb",
         "0",
         "0",
         "0",
         "0",
         "0"
        ],
        [
         "16",
         "0",
         "0",
         "0",
         "0",
         "0"
        ],
        [
         "180k",
         "0",
         "0",
         "0",
         "0",
         "0"
        ],
        [
         "1990s",
         "0",
         "0",
         "0",
         "0",
         "0"
        ],
        [
         "20",
         "0",
         "0",
         "0",
         "0",
         "0"
        ],
        [
         "2015",
         "0",
         "0",
         "0",
         "0",
         "0"
        ],
        [
         "2016",
         "0",
         "0",
         "0",
         "0",
         "0"
        ],
        [
         "2036",
         "0",
         "0",
         "0",
         "0",
         "0"
        ],
        [
         "22mb",
         "0",
         "0",
         "0",
         "0",
         "0"
        ],
        [
         "24",
         "0",
         "0",
         "0",
         "0",
         "0"
        ],
        [
         "25",
         "0",
         "0",
         "0",
         "0",
         "0"
        ],
        [
         "2m",
         "0",
         "0",
         "0",
         "0",
         "0"
        ],
        [
         "2many",
         "0",
         "0",
         "0",
         "0",
         "0"
        ],
        [
         "2nd",
         "0",
         "0",
         "0",
         "0",
         "0"
        ],
        [
         "30",
         "0",
         "0",
         "0",
         "0",
         "0"
        ],
        [
         "30mins",
         "0",
         "0",
         "0",
         "0",
         "0"
        ],
        [
         "3g",
         "0",
         "0",
         "0",
         "0",
         "0"
        ],
        [
         "3gb",
         "0",
         "0",
         "0",
         "0",
         "0"
        ],
        [
         "3rd",
         "0",
         "0",
         "0",
         "0",
         "0"
        ],
        [
         "3s",
         "0",
         "0",
         "0",
         "0",
         "0"
        ],
        [
         "3yrs",
         "0",
         "0",
         "0",
         "0",
         "0"
        ],
        [
         "40",
         "0",
         "0",
         "0",
         "0",
         "0"
        ],
        [
         "45",
         "0",
         "0",
         "0",
         "0",
         "0"
        ],
        [
         "48",
         "0",
         "0",
         "0",
         "0",
         "0"
        ],
        [
         "48gb",
         "0",
         "0",
         "0",
         "0",
         "0"
        ],
        [
         "4g",
         "0",
         "0",
         "0",
         "0",
         "0"
        ],
        [
         "50",
         "0",
         "0",
         "0",
         "0",
         "0"
        ],
        [
         "500",
         "0",
         "0",
         "0",
         "0",
         "0"
        ],
        [
         "500k",
         "0",
         "0",
         "0",
         "0",
         "0"
        ],
        [
         "505",
         "0",
         "0",
         "0",
         "0",
         "0"
        ],
        [
         "512kbps",
         "0",
         "0",
         "0",
         "0",
         "0"
        ],
        [
         "5minutes",
         "0",
         "0",
         "0",
         "0",
         "0"
        ],
        [
         "5star",
         "0",
         "0",
         "0",
         "0",
         "0"
        ],
        [
         "6p",
         "0",
         "0",
         "0",
         "0",
         "0"
        ],
        [
         "82",
         "0",
         "0",
         "0",
         "0",
         "0"
        ],
        [
         "86",
         "0",
         "0",
         "0",
         "0",
         "0"
        ]
       ],
       "shape": {
        "columns": 5,
        "rows": 3012
       }
      },
      "text/html": [
       "<div>\n",
       "<style scoped>\n",
       "    .dataframe tbody tr th:only-of-type {\n",
       "        vertical-align: middle;\n",
       "    }\n",
       "\n",
       "    .dataframe tbody tr th {\n",
       "        vertical-align: top;\n",
       "    }\n",
       "\n",
       "    .dataframe thead th {\n",
       "        text-align: right;\n",
       "    }\n",
       "</style>\n",
       "<table border=\"1\" class=\"dataframe\">\n",
       "  <thead>\n",
       "    <tr style=\"text-align: right;\">\n",
       "      <th></th>\n",
       "      <th>0</th>\n",
       "      <th>1</th>\n",
       "      <th>2</th>\n",
       "      <th>3</th>\n",
       "      <th>4</th>\n",
       "    </tr>\n",
       "  </thead>\n",
       "  <tbody>\n",
       "    <tr>\n",
       "      <th>000</th>\n",
       "      <td>0</td>\n",
       "      <td>0</td>\n",
       "      <td>0</td>\n",
       "      <td>0</td>\n",
       "      <td>0</td>\n",
       "    </tr>\n",
       "    <tr>\n",
       "      <th>04</th>\n",
       "      <td>0</td>\n",
       "      <td>0</td>\n",
       "      <td>0</td>\n",
       "      <td>0</td>\n",
       "      <td>0</td>\n",
       "    </tr>\n",
       "    <tr>\n",
       "      <th>0x</th>\n",
       "      <td>0</td>\n",
       "      <td>0</td>\n",
       "      <td>0</td>\n",
       "      <td>0</td>\n",
       "      <td>0</td>\n",
       "    </tr>\n",
       "    <tr>\n",
       "      <th>10</th>\n",
       "      <td>0</td>\n",
       "      <td>0</td>\n",
       "      <td>0</td>\n",
       "      <td>0</td>\n",
       "      <td>0</td>\n",
       "    </tr>\n",
       "    <tr>\n",
       "      <th>100</th>\n",
       "      <td>0</td>\n",
       "      <td>0</td>\n",
       "      <td>0</td>\n",
       "      <td>0</td>\n",
       "      <td>0</td>\n",
       "    </tr>\n",
       "    <tr>\n",
       "      <th>...</th>\n",
       "      <td>...</td>\n",
       "      <td>...</td>\n",
       "      <td>...</td>\n",
       "      <td>...</td>\n",
       "      <td>...</td>\n",
       "    </tr>\n",
       "    <tr>\n",
       "      <th>żŕ</th>\n",
       "      <td>0</td>\n",
       "      <td>0</td>\n",
       "      <td>0</td>\n",
       "      <td>0</td>\n",
       "      <td>0</td>\n",
       "    </tr>\n",
       "    <tr>\n",
       "      <th>żŕľ</th>\n",
       "      <td>0</td>\n",
       "      <td>0</td>\n",
       "      <td>0</td>\n",
       "      <td>0</td>\n",
       "      <td>0</td>\n",
       "    </tr>\n",
       "    <tr>\n",
       "      <th>žŕ</th>\n",
       "      <td>0</td>\n",
       "      <td>0</td>\n",
       "      <td>0</td>\n",
       "      <td>0</td>\n",
       "      <td>0</td>\n",
       "    </tr>\n",
       "    <tr>\n",
       "      <th>žŕľ</th>\n",
       "      <td>0</td>\n",
       "      <td>0</td>\n",
       "      <td>0</td>\n",
       "      <td>0</td>\n",
       "      <td>0</td>\n",
       "    </tr>\n",
       "    <tr>\n",
       "      <th>ˇŕ</th>\n",
       "      <td>0</td>\n",
       "      <td>0</td>\n",
       "      <td>0</td>\n",
       "      <td>0</td>\n",
       "      <td>0</td>\n",
       "    </tr>\n",
       "  </tbody>\n",
       "</table>\n",
       "<p>3012 rows × 5 columns</p>\n",
       "</div>"
      ],
      "text/plain": [
       "     0  1  2  3  4\n",
       "000  0  0  0  0  0\n",
       "04   0  0  0  0  0\n",
       "0x   0  0  0  0  0\n",
       "10   0  0  0  0  0\n",
       "100  0  0  0  0  0\n",
       "..  .. .. .. .. ..\n",
       "żŕ   0  0  0  0  0\n",
       "żŕľ  0  0  0  0  0\n",
       "žŕ   0  0  0  0  0\n",
       "žŕľ  0  0  0  0  0\n",
       "ˇŕ   0  0  0  0  0\n",
       "\n",
       "[3012 rows x 5 columns]"
      ]
     },
     "execution_count": 14,
     "metadata": {},
     "output_type": "execute_result"
    }
   ],
   "source": [
    "feature_names=vector_model.get_feature_names_out()\n",
    "training_word_counts=pd.DataFrame(training_word_counts, columns=feature_names)\n",
    "testing_word_counts=pd.DataFrame(testing_word_counts, columns=feature_names)\n",
    "training_word_counts.head().T"
   ]
  },
  {
   "cell_type": "markdown",
   "metadata": {},
   "source": [
    "## 3. EDA \n",
    "### 3.1. Baseline model performance "
   ]
  },
  {
   "cell_type": "code",
   "execution_count": 15,
   "metadata": {},
   "outputs": [
    {
     "data": {
      "text/plain": [
       "polarity\n",
       "0    414\n",
       "1    209\n",
       "Name: count, dtype: int64"
      ]
     },
     "execution_count": 15,
     "metadata": {},
     "output_type": "execute_result"
    }
   ],
   "source": [
    "training_df['polarity'].value_counts()"
   ]
  },
  {
   "cell_type": "code",
   "execution_count": 16,
   "metadata": {},
   "outputs": [
    {
     "data": {
      "text/plain": [
       "polarity\n",
       "0    170\n",
       "1     98\n",
       "Name: count, dtype: int64"
      ]
     },
     "execution_count": 16,
     "metadata": {},
     "output_type": "execute_result"
    }
   ],
   "source": [
    "testing_df['polarity'].value_counts()"
   ]
  },
  {
   "cell_type": "code",
   "execution_count": 17,
   "metadata": {},
   "outputs": [
    {
     "data": {
      "text/plain": [
       "package_name\n",
       "com.evernote                  32\n",
       "com.Slack                     32\n",
       "org.mozilla.firefox           31\n",
       "com.facebook.orca             30\n",
       "com.android.chrome            30\n",
       "com.facebook.katana           30\n",
       "com.hamropatro                29\n",
       "com.dropbox.android           29\n",
       "com.king.candycrushsaga       28\n",
       "com.supercell.clashofclans    28\n",
       "com.tencent.mm                28\n",
       "com.google.android.talk       27\n",
       "com.viber.voip                27\n",
       "com.hamrokeyboard             27\n",
       "com.linkedin.android          26\n",
       "com.imangi.templerun2         26\n",
       "com.opera.mini.native         26\n",
       "com.shirantech.kantipur       26\n",
       "com.rovio.angrybirds          25\n",
       "com.twitter.android           24\n",
       "com.whatsapp                  24\n",
       "com.uc.browser.en             21\n",
       "jabanaki.todo.todoly          17\n",
       "Name: count, dtype: int64"
      ]
     },
     "execution_count": 17,
     "metadata": {},
     "output_type": "execute_result"
    }
   ],
   "source": [
    "training_df['package_name'].value_counts()"
   ]
  },
  {
   "cell_type": "markdown",
   "metadata": {},
   "source": [
    "Accuracy of a constant '0' model "
   ]
  },
  {
   "cell_type": "code",
   "execution_count": 18,
   "metadata": {},
   "outputs": [
    {
     "name": "stdout",
     "output_type": "stream",
     "text": [
      "Testing accuracy of constant \"0\" polarity model: 63.43%\n"
     ]
    }
   ],
   "source": [
    "accuracy=((len(testing_df) - sum(testing_df['polarity'])) / len(testing_df))*100\n",
    "print(f'Testing accuracy of constant \"0\" polarity model: {accuracy:.2f}%')"
   ]
  },
  {
   "cell_type": "markdown",
   "metadata": {},
   "source": [
    "Logistic Regression Model "
   ]
  },
  {
   "cell_type": "code",
   "execution_count": 19,
   "metadata": {},
   "outputs": [
    {
     "name": "stdout",
     "output_type": "stream",
     "text": [
      "Testing accuracy of logistic regression model: 78.4%\n"
     ]
    }
   ],
   "source": [
    "model=LogisticRegression()\n",
    "model.fit(training_word_counts, training_df['polarity'])\n",
    "\n",
    "accuracy=accuracy_score(model.predict(testing_word_counts),testing_df['polarity'])\n",
    "\n",
    "print(f'Testing accuracy of logistic regression model: {accuracy*100:.1f}%')"
   ]
  },
  {
   "cell_type": "code",
   "execution_count": 23,
   "metadata": {},
   "outputs": [
    {
     "name": "stdout",
     "output_type": "stream",
     "text": [
      "[160, 466, 209, 151, 488, 228, 210, 307, 208, 477, 209, 200, 457, 463, 111, 212, 123, 130, 378, 364, 115, 181, 262, 333, 212, 220, 370, 149, 344, 43, 233, 289, 38, 160, 154, 34, 174, 110, 380, 242, 217, 184, 228, 275, 230, 237, 168, 21, 147, 429, 198, 292, 358, 395, 150, 42, 261, 302, 273, 141, 510, 165, 79, 366, 168, 198, 141, 366, 156, 288, 8, 374, 56, 423, 233, 268, 111, 148, 129, 106, 35, 195, 106, 185, 176, 286, 325, 175, 15, 125, 196, 181, 106, 164, 265, 531, 287, 81, 192, 158, 233, 53, 216, 86, 145, 167, 222, 220, 236, 389, 282, 138, 440, 198, 249, 201, 258, 161, 198, 168, 136, 209, 116, 163, 212, 342, 152, 274, 516, 160, 156, 162, 331, 224, 79, 142, 419, 115, 192, 115, 126, 443, 118, 175, 253, 314, 46, 190, 177, 257, 197, 444, 286, 404, 287, 459, 205, 217, 242, 273, 218, 219, 222, 210, 282, 465, 163, 341, 83, 157, 160, 231, 402, 500, 26, 151, 225, 155, 135, 151, 223, 133, 386, 347, 173, 202, 184, 133, 253, 269, 25, 159, 308, 53, 510, 525, 71, 211, 217, 171, 483, 535, 281, 196, 329, 43, 288, 165, 175, 215, 143, 206, 323, 20, 244, 320, 70, 128, 355, 123, 197, 285, 152, 163, 228, 235, 139, 471, 179, 284, 139, 241, 267, 474, 291, 187, 504, 395, 38, 168, 196, 211, 249, 80, 228, 376, 143, 185, 83, 351, 530, 356, 38, 26, 167, 190, 284, 101, 418, 129, 170, 373, 294, 110, 299, 52, 160, 204, 87, 221, 233, 126, 201, 92, 320, 339, 37, 416, 302, 130, 351, 164, 197, 160, 220, 171, 164, 178, 188, 131, 236, 185, 266, 537, 183, 517, 177, 273, 331, 250, 162, 557, 179, 75, 99, 233, 193, 33, 184, 203, 155, 204, 293, 70, 91, 186, 140, 175, 252, 207, 253, 65, 292, 87, 219, 266, 77, 46, 252, 418, 140, 40, 445, 243, 253, 415, 197, 186, 284, 120, 154, 481, 350, 64, 195, 120, 160, 205, 142, 199, 255, 149, 174, 291, 165, 299, 176, 228, 226, 113, 348, 109, 212, 106, 208, 117, 160, 200, 204, 163, 264, 164, 216, 139, 369, 33, 365, 189, 175, 214, 258, 227, 204, 114, 124, 137, 10, 228, 293, 87, 113, 538, 146, 298, 281, 347, 212, 344, 330, 192, 221, 119, 142, 10, 375, 232, 160, 262, 118, 166, 214, 215, 164, 305, 92, 368, 244, 167, 121, 240, 275, 246, 42, 123, 21, 370, 232, 202, 471, 342, 248, 37, 292, 481, 55, 210, 145, 189, 456, 148, 569, 514, 11, 260, 235, 142, 115, 323, 279, 177, 398, 70, 55, 122, 354, 297, 238, 194, 254, 193, 347, 190, 279, 77, 226, 164, 536, 101, 116, 175, 910, 273, 179, 540, 136, 761, 159, 360, 312, 50, 33, 234, 158, 230, 278, 270, 212, 173, 266, 828, 528, 169, 136, 301, 254, 131, 109, 188, 416, 189, 149, 254, 238, 261, 540, 387, 19, 555, 127, 66, 67, 125, 101, 260, 36, 127, 532, 265, 193, 405, 113, 348, 111, 308, 148, 251, 246, 308, 66, 301, 233, 195, 254, 100, 366, 53, 226, 419, 107, 192, 79, 209, 231, 148, 73, 299, 779, 170, 219, 38, 172, 321, 123, 506, 58, 485, 250, 82, 193, 161, 251, 11, 247, 332, 149, 114, 159, 234, 254, 170, 13, 58, 258, 234, 278, 353, 502, 164, 244, 76, 546, 175, 404, 298, 324, 215, 155, 232, 180, 137, 225, 195, 217, 138, 390, 252, 196, 220, 169, 257, 125, 434, 78, 217, 197, 234, 524, 235, 135, 457, 214, 177, 207, 263, 284, 145, 265, 225, 411, 97, 176, 256, 403]\n"
     ]
    }
   ],
   "source": [
    "lengths=training_df['review'].str.len().tolist()\n",
    "print(lengths)"
   ]
  },
  {
   "cell_type": "markdown",
   "metadata": {},
   "source": [
    "### 3.2 Review Length Distributions "
   ]
  },
  {
   "cell_type": "code",
   "execution_count": 30,
   "metadata": {},
   "outputs": [
    {
     "name": "stdout",
     "output_type": "stream",
     "text": [
      "Mean of Review length: 227\n",
      "Min count of Review length: 8\n",
      "Max count of Review length: 910\n"
     ]
    },
    {
     "data": {
      "image/png": "[encoded data removed]",
      "text/plain": [
       "<Figure size 640x480 with 1 Axes>"
      ]
     },
     "metadata": {},
     "output_type": "display_data"
    }
   ],
   "source": [
    "lengths=training_df['review'].str.len().tolist()\n",
    "print(f'Mean of Review length: {np.mean(lengths):.0f}')\n",
    "print(f'Min count of Review length: {min(lengths):.0f}')\n",
    "print(f'Max count of Review length: {max(lengths):.0f}')\n",
    "\n",
    "plt.title('Review length distribution', fontsize=20, fontweight='bold')\n",
    "plt.xlabel('Characters', fontweight='bold')\n",
    "plt.ylabel('Reviews', fontweight='bold')\n",
    "plt.hist(lengths, bins=30, color='green')\n",
    "plt.show()\n",
    "\n"
   ]
  }
 ],
 "metadata": {
  "kernelspec": {
   "display_name": "Python 3",
   "language": "python",
   "name": "python3"
  },
  "language_info": {
   "codemirror_mode": {
    "name": "ipython",
    "version": 3
   },
   "file_extension": ".py",
   "mimetype": "text/x-python",
   "name": "python",
   "nbconvert_exporter": "python",
   "pygments_lexer": "ipython3",
   "version": "3.11.4"
  }
 },
 "nbformat": 4,
 "nbformat_minor": 2
}
