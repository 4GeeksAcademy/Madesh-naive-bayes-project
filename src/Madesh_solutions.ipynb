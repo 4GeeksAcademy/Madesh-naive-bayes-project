{
 "cells": [
  {
   "cell_type": "markdown",
   "metadata": {},
   "source": [
    "# Naive Bayes Model: Google Play Store Reviews \n",
    "## 1. Import Modules "
   ]
  },
  {
   "cell_type": "code",
   "execution_count": 1,
   "metadata": {},
   "outputs": [],
   "source": [
    "import numpy as np\n",
    "import pandas as pd\n",
    "import matplotlib.pyplot as plt\n",
    "import seaborn as sns\n",
    "from sklearn.model_selection import train_test_split, cross_val_score\n",
    "from sklearn.feature_extraction.text import CountVectorizer\n",
    "from sklearn.linear_model import LogisticRegression\n",
    "from sklearn.metrics import accuracy_score, confusion_matrix, ConfusionMatrixDisplay\n",
    "from sklearn.naive_bayes import MultinomialNB, GaussianNB, BernoulliNB"
   ]
  },
  {
   "cell_type": "markdown",
   "metadata": {},
   "source": [
    "## 2. Data Preparation \n",
    "### 2.1 Data download from CSV file "
   ]
  },
  {
   "cell_type": "code",
   "execution_count": 2,
   "metadata": {},
   "outputs": [],
   "source": [
    "data_df=pd.read_csv('https://raw.githubusercontent.com/4GeeksAcademy/naive-bayes-project-tutorial/main/playstore_reviews.csv')"
   ]
  },
  {
   "cell_type": "markdown",
   "metadata": {},
   "source": [
    "### 2.2 Data Inspection "
   ]
  },
  {
   "cell_type": "code",
   "execution_count": 3,
   "metadata": {},
   "outputs": [
    {
     "data": {
      "application/vnd.microsoft.datawrangler.viewer.v0+json": {
       "columns": [
        {
         "name": "index",
         "rawType": "object",
         "type": "string"
        },
        {
         "name": "0",
         "rawType": "object",
         "type": "unknown"
        },
        {
         "name": "1",
         "rawType": "object",
         "type": "unknown"
        },
        {
         "name": "2",
         "rawType": "object",
         "type": "unknown"
        },
        {
         "name": "3",
         "rawType": "object",
         "type": "unknown"
        },
        {
         "name": "4",
         "rawType": "object",
         "type": "unknown"
        }
       ],
       "conversionMethod": "pd.DataFrame",
       "ref": "7fa93fd8-377f-4308-856e-0f45a67e9308",
       "rows": [
        [
         "package_name",
         "com.facebook.katana",
         "com.facebook.katana",
         "com.facebook.katana",
         "com.facebook.katana",
         "com.facebook.katana"
        ],
        [
         "review",
         " privacy at least put some option appear offline. i mean for some people like me it's a big pressure to be seen online like you need to response on every message or else you be called seenzone only. if only i wanna do on facebook is to read on my newsfeed and just wanna response on message i want to. pls reconsidered my review. i tried to turn off chat but still can see me as online.",
         " messenger issues ever since the last update, initial received messages don't get pushed to the messenger app and you don't get notification in the facebook app or messenger app. you open the facebook app and happen to see you have a message. you have to click the icon and it opens messenger. subsequent messages go through messenger app, unless you close the chat head... then you start over with no notification and having to go through the facebook app.",
         " profile any time my wife or anybody has more than one post and i view them it would take me to there profile so that i can view them all at once. now when i try to view them it tells me that the page that i requested is not available. i've restarted my phone i even cleard the cache and i've uninstalled and reinstalled the app and it is still doing it. please fix it thank you",
         " the new features suck for those of us who don't have a working back button can you guys make the videos able to be slid to the left to exit the video. as i have to force close facebook to exit",
         " forced reload on uploading pic on replying comment last night i tried to reply a comment by uploading a photo from my phone. when i press on the button to select photos the app automatically goes back to the main page. on other occasions, i could enter to my gallery to select my image but as soon as i selected an image and press done, the program, again, forced reload and suddenly go back to the main page. please fix this and i will change my rating. thank you."
        ],
        [
         "polarity",
         "0",
         "0",
         "0",
         "0",
         "0"
        ]
       ],
       "shape": {
        "columns": 5,
        "rows": 3
       }
      },
      "text/html": [
       "<div>\n",
       "<style scoped>\n",
       "    .dataframe tbody tr th:only-of-type {\n",
       "        vertical-align: middle;\n",
       "    }\n",
       "\n",
       "    .dataframe tbody tr th {\n",
       "        vertical-align: top;\n",
       "    }\n",
       "\n",
       "    .dataframe thead th {\n",
       "        text-align: right;\n",
       "    }\n",
       "</style>\n",
       "<table border=\"1\" class=\"dataframe\">\n",
       "  <thead>\n",
       "    <tr style=\"text-align: right;\">\n",
       "      <th></th>\n",
       "      <th>0</th>\n",
       "      <th>1</th>\n",
       "      <th>2</th>\n",
       "      <th>3</th>\n",
       "      <th>4</th>\n",
       "    </tr>\n",
       "  </thead>\n",
       "  <tbody>\n",
       "    <tr>\n",
       "      <th>package_name</th>\n",
       "      <td>com.facebook.katana</td>\n",
       "      <td>com.facebook.katana</td>\n",
       "      <td>com.facebook.katana</td>\n",
       "      <td>com.facebook.katana</td>\n",
       "      <td>com.facebook.katana</td>\n",
       "    </tr>\n",
       "    <tr>\n",
       "      <th>review</th>\n",
       "      <td>privacy at least put some option appear offli...</td>\n",
       "      <td>messenger issues ever since the last update, ...</td>\n",
       "      <td>profile any time my wife or anybody has more ...</td>\n",
       "      <td>the new features suck for those of us who don...</td>\n",
       "      <td>forced reload on uploading pic on replying co...</td>\n",
       "    </tr>\n",
       "    <tr>\n",
       "      <th>polarity</th>\n",
       "      <td>0</td>\n",
       "      <td>0</td>\n",
       "      <td>0</td>\n",
       "      <td>0</td>\n",
       "      <td>0</td>\n",
       "    </tr>\n",
       "  </tbody>\n",
       "</table>\n",
       "</div>"
      ],
      "text/plain": [
       "                                                              0  \\\n",
       "package_name                                com.facebook.katana   \n",
       "review         privacy at least put some option appear offli...   \n",
       "polarity                                                      0   \n",
       "\n",
       "                                                              1  \\\n",
       "package_name                                com.facebook.katana   \n",
       "review         messenger issues ever since the last update, ...   \n",
       "polarity                                                      0   \n",
       "\n",
       "                                                              2  \\\n",
       "package_name                                com.facebook.katana   \n",
       "review         profile any time my wife or anybody has more ...   \n",
       "polarity                                                      0   \n",
       "\n",
       "                                                              3  \\\n",
       "package_name                                com.facebook.katana   \n",
       "review         the new features suck for those of us who don...   \n",
       "polarity                                                      0   \n",
       "\n",
       "                                                              4  \n",
       "package_name                                com.facebook.katana  \n",
       "review         forced reload on uploading pic on replying co...  \n",
       "polarity                                                      0  "
      ]
     },
     "execution_count": 3,
     "metadata": {},
     "output_type": "execute_result"
    }
   ],
   "source": [
    "data_df.head().T"
   ]
  },
  {
   "cell_type": "code",
   "execution_count": 4,
   "metadata": {},
   "outputs": [
    {
     "name": "stdout",
     "output_type": "stream",
     "text": [
      "<class 'pandas.core.frame.DataFrame'>\n",
      "RangeIndex: 891 entries, 0 to 890\n",
      "Data columns (total 3 columns):\n",
      " #   Column        Non-Null Count  Dtype \n",
      "---  ------        --------------  ----- \n",
      " 0   package_name  891 non-null    object\n",
      " 1   review        891 non-null    object\n",
      " 2   polarity      891 non-null    int64 \n",
      "dtypes: int64(1), object(2)\n",
      "memory usage: 21.0+ KB\n"
     ]
    }
   ],
   "source": [
    "data_df.info()"
   ]
  },
  {
   "cell_type": "markdown",
   "metadata": {},
   "source": [
    "- 3 columns with 2 categorical and 1 numeric features and no missing data! "
   ]
  },
  {
   "cell_type": "markdown",
   "metadata": {},
   "source": [
    "### 2.3 Train-test split "
   ]
  },
  {
   "cell_type": "code",
   "execution_count": 5,
   "metadata": {},
   "outputs": [],
   "source": [
    "training_df, testing_df=train_test_split(data_df, test_size=0.3, random_state=315)"
   ]
  },
  {
   "cell_type": "code",
   "execution_count": 6,
   "metadata": {},
   "outputs": [
    {
     "data": {
      "application/vnd.microsoft.datawrangler.viewer.v0+json": {
       "columns": [
        {
         "name": "index",
         "rawType": "object",
         "type": "string"
        },
        {
         "name": "106",
         "rawType": "object",
         "type": "unknown"
        },
        {
         "name": "4",
         "rawType": "object",
         "type": "unknown"
        },
        {
         "name": "589",
         "rawType": "object",
         "type": "unknown"
        },
        {
         "name": "712",
         "rawType": "object",
         "type": "unknown"
        },
        {
         "name": "592",
         "rawType": "object",
         "type": "unknown"
        }
       ],
       "conversionMethod": "pd.DataFrame",
       "ref": "ca97f5af-bc4e-4996-96b3-67b4fc207fc5",
       "rows": [
        [
         "package_name",
         "com.linkedin.android",
         "com.facebook.katana",
         "com.evernote",
         "com.opera.mini.native",
         "com.evernote"
        ],
        [
         "review",
         " why can't i share my achievements? recently discovered that there is a feature for sharing any kind of achievement, however i can't accomplish it on my profile",
         " forced reload on uploading pic on replying comment last night i tried to reply a comment by uploading a photo from my phone. when i press on the button to select photos the app automatically goes back to the main page. on other occasions, i could enter to my gallery to select my image but as soon as i selected an image and press done, the program, again, forced reload and suddenly go back to the main page. please fix this and i will change my rating. thank you.",
         " very user friendly! for those looking for a straight forward note taking app that syncs across devices and has user friendly features, look no further! evernote simplified my electronic note taking with charm",
         " save image and low performance can not save an image from google image and performance google search very heavy for low devices. i miss opera classic.",
         " too much going on its cool it works but ony using it because i have to its got way to much going on for a note pad.. adds in useless irrelevant information like i made a note on a friends birthday now it says from so and sos birthday but it works great just wish it was just a plain jane note pad like the one htc used this app to replace. if there was a way to over complicate a note pad app they did it.it works great like i said and it takes some getting used to and it grows on you.."
        ],
        [
         "polarity",
         "0",
         "0",
         "1",
         "0",
         "1"
        ]
       ],
       "shape": {
        "columns": 5,
        "rows": 3
       }
      },
      "text/html": [
       "<div>\n",
       "<style scoped>\n",
       "    .dataframe tbody tr th:only-of-type {\n",
       "        vertical-align: middle;\n",
       "    }\n",
       "\n",
       "    .dataframe tbody tr th {\n",
       "        vertical-align: top;\n",
       "    }\n",
       "\n",
       "    .dataframe thead th {\n",
       "        text-align: right;\n",
       "    }\n",
       "</style>\n",
       "<table border=\"1\" class=\"dataframe\">\n",
       "  <thead>\n",
       "    <tr style=\"text-align: right;\">\n",
       "      <th></th>\n",
       "      <th>106</th>\n",
       "      <th>4</th>\n",
       "      <th>589</th>\n",
       "      <th>712</th>\n",
       "      <th>592</th>\n",
       "    </tr>\n",
       "  </thead>\n",
       "  <tbody>\n",
       "    <tr>\n",
       "      <th>package_name</th>\n",
       "      <td>com.linkedin.android</td>\n",
       "      <td>com.facebook.katana</td>\n",
       "      <td>com.evernote</td>\n",
       "      <td>com.opera.mini.native</td>\n",
       "      <td>com.evernote</td>\n",
       "    </tr>\n",
       "    <tr>\n",
       "      <th>review</th>\n",
       "      <td>why can't i share my achievements? recently d...</td>\n",
       "      <td>forced reload on uploading pic on replying co...</td>\n",
       "      <td>very user friendly! for those looking for a s...</td>\n",
       "      <td>save image and low performance can not save a...</td>\n",
       "      <td>too much going on its cool it works but ony u...</td>\n",
       "    </tr>\n",
       "    <tr>\n",
       "      <th>polarity</th>\n",
       "      <td>0</td>\n",
       "      <td>0</td>\n",
       "      <td>1</td>\n",
       "      <td>0</td>\n",
       "      <td>1</td>\n",
       "    </tr>\n",
       "  </tbody>\n",
       "</table>\n",
       "</div>"
      ],
      "text/plain": [
       "                                                            106  \\\n",
       "package_name                               com.linkedin.android   \n",
       "review         why can't i share my achievements? recently d...   \n",
       "polarity                                                      0   \n",
       "\n",
       "                                                            4    \\\n",
       "package_name                                com.facebook.katana   \n",
       "review         forced reload on uploading pic on replying co...   \n",
       "polarity                                                      0   \n",
       "\n",
       "                                                            589  \\\n",
       "package_name                                       com.evernote   \n",
       "review         very user friendly! for those looking for a s...   \n",
       "polarity                                                      1   \n",
       "\n",
       "                                                            712  \\\n",
       "package_name                              com.opera.mini.native   \n",
       "review         save image and low performance can not save a...   \n",
       "polarity                                                      0   \n",
       "\n",
       "                                                            592  \n",
       "package_name                                       com.evernote  \n",
       "review         too much going on its cool it works but ony u...  \n",
       "polarity                                                      1  "
      ]
     },
     "execution_count": 6,
     "metadata": {},
     "output_type": "execute_result"
    }
   ],
   "source": [
    "training_df.head().T"
   ]
  },
  {
   "cell_type": "markdown",
   "metadata": {},
   "source": [
    "### 2.4 Data Encoding "
   ]
  },
  {
   "cell_type": "code",
   "execution_count": 8,
   "metadata": {},
   "outputs": [
    {
     "data": {
      "text/plain": [
       "106     why can't i share my achievements? recently d...\n",
       "4       forced reload on uploading pic on replying co...\n",
       "589     very user friendly! for those looking for a s...\n",
       "712     save image and low performance can not save a...\n",
       "592     too much going on its cool it works but ony u...\n",
       "Name: review, dtype: object"
      ]
     },
     "execution_count": 8,
     "metadata": {},
     "output_type": "execute_result"
    }
   ],
   "source": [
    "training_reviews=training_df['review']\n",
    "testing_reviews=testing_df['review']\n",
    "training_reviews.head()"
   ]
  },
  {
   "cell_type": "code",
   "execution_count": 9,
   "metadata": {},
   "outputs": [
    {
     "name": "stdout",
     "output_type": "stream",
     "text": [
      "<class 'pandas.core.series.Series'>\n",
      "Index: 623 entries, 106 to 873\n",
      "Series name: review\n",
      "Non-Null Count  Dtype \n",
      "--------------  ----- \n",
      "623 non-null    object\n",
      "dtypes: object(1)\n",
      "memory usage: 9.7+ KB\n"
     ]
    }
   ],
   "source": [
    "training_reviews.info()"
   ]
  },
  {
   "cell_type": "code",
   "execution_count": 11,
   "metadata": {},
   "outputs": [
    {
     "name": "stdout",
     "output_type": "stream",
     "text": [
      "<class 'pandas.core.series.Series'>\n",
      "Index: 268 entries, 393 to 699\n",
      "Series name: review\n",
      "Non-Null Count  Dtype \n",
      "--------------  ----- \n",
      "268 non-null    object\n",
      "dtypes: object(1)\n",
      "memory usage: 4.2+ KB\n"
     ]
    }
   ],
   "source": [
    "testing_reviews.info()"
   ]
  },
  {
   "cell_type": "markdown",
   "metadata": {},
   "source": [
    "- split of the data set(891): training(623) and testing (268)"
   ]
  },
  {
   "cell_type": "code",
   "execution_count": 10,
   "metadata": {},
   "outputs": [
    {
     "name": "stdout",
     "output_type": "stream",
     "text": [
      "Word count matrix has 623 rows and 3012 columns\n"
     ]
    }
   ],
   "source": [
    "vector_model=CountVectorizer(stop_words=\"english\")\n",
    "vector_model.fit(training_reviews)\n",
    "training_word_counts=vector_model.transform(training_reviews).toarray()\n",
    "testing_word_counts=vector_model.transform(testing_reviews).toarray()\n",
    "\n",
    "print(f'Word count matrix has {training_word_counts.shape[0]} rows and {training_word_counts.shape[1]} columns')"
   ]
  },
  {
   "cell_type": "code",
   "execution_count": 12,
   "metadata": {},
   "outputs": [
    {
     "data": {
      "text/plain": [
       "array([0, 0, 0, ..., 0, 0, 0], shape=(3012,))"
      ]
     },
     "execution_count": 12,
     "metadata": {},
     "output_type": "execute_result"
    }
   ],
   "source": [
    "training_word_counts[0]\n"
   ]
  },
  {
   "cell_type": "code",
   "execution_count": 13,
   "metadata": {},
   "outputs": [
    {
     "data": {
      "application/vnd.microsoft.datawrangler.viewer.v0+json": {
       "columns": [
        {
         "name": "index",
         "rawType": "object",
         "type": "string"
        },
        {
         "name": "0",
         "rawType": "int64",
         "type": "integer"
        },
        {
         "name": "1",
         "rawType": "int64",
         "type": "integer"
        },
        {
         "name": "2",
         "rawType": "int64",
         "type": "integer"
        },
        {
         "name": "3",
         "rawType": "int64",
         "type": "integer"
        },
        {
         "name": "4",
         "rawType": "int64",
         "type": "integer"
        }
       ],
       "conversionMethod": "pd.DataFrame",
       "ref": "4322ba3e-287a-4260-878f-f2d65b0f3caf",
       "rows": [
        [
         "000",
         "0",
         "0",
         "0",
         "0",
         "0"
        ],
        [
         "04",
         "0",
         "0",
         "0",
         "0",
         "0"
        ],
        [
         "0x",
         "0",
         "0",
         "0",
         "0",
         "0"
        ],
        [
         "10",
         "0",
         "0",
         "0",
         "0",
         "0"
        ],
        [
         "100",
         "0",
         "0",
         "0",
         "0",
         "0"
        ],
        [
         "101",
         "0",
         "0",
         "0",
         "0",
         "0"
        ],
        [
         "11",
         "0",
         "0",
         "0",
         "0",
         "0"
        ],
        [
         "1186",
         "0",
         "0",
         "0",
         "0",
         "0"
        ],
        [
         "12",
         "0",
         "0",
         "0",
         "0",
         "0"
        ],
        [
         "125",
         "0",
         "0",
         "0",
         "0",
         "0"
        ],
        [
         "13",
         "0",
         "0",
         "0",
         "0",
         "0"
        ],
        [
         "14",
         "0",
         "0",
         "0",
         "0",
         "0"
        ],
        [
         "14th",
         "0",
         "0",
         "0",
         "0",
         "0"
        ],
        [
         "15",
         "0",
         "0",
         "0",
         "0",
         "0"
        ],
        [
         "15mb",
         "0",
         "0",
         "0",
         "0",
         "0"
        ],
        [
         "16",
         "0",
         "0",
         "0",
         "0",
         "0"
        ],
        [
         "180k",
         "0",
         "0",
         "0",
         "0",
         "0"
        ],
        [
         "1990s",
         "0",
         "0",
         "0",
         "0",
         "0"
        ],
        [
         "20",
         "0",
         "0",
         "0",
         "0",
         "0"
        ],
        [
         "2015",
         "0",
         "0",
         "0",
         "0",
         "0"
        ],
        [
         "2016",
         "0",
         "0",
         "0",
         "0",
         "0"
        ],
        [
         "2036",
         "0",
         "0",
         "0",
         "0",
         "0"
        ],
        [
         "22mb",
         "0",
         "0",
         "0",
         "0",
         "0"
        ],
        [
         "24",
         "0",
         "0",
         "0",
         "0",
         "0"
        ],
        [
         "25",
         "0",
         "0",
         "0",
         "0",
         "0"
        ],
        [
         "2m",
         "0",
         "0",
         "0",
         "0",
         "0"
        ],
        [
         "2many",
         "0",
         "0",
         "0",
         "0",
         "0"
        ],
        [
         "2nd",
         "0",
         "0",
         "0",
         "0",
         "0"
        ],
        [
         "30",
         "0",
         "0",
         "0",
         "0",
         "0"
        ],
        [
         "30mins",
         "0",
         "0",
         "0",
         "0",
         "0"
        ],
        [
         "3g",
         "0",
         "0",
         "0",
         "0",
         "0"
        ],
        [
         "3gb",
         "0",
         "0",
         "0",
         "0",
         "0"
        ],
        [
         "3rd",
         "0",
         "0",
         "0",
         "0",
         "0"
        ],
        [
         "3s",
         "0",
         "0",
         "0",
         "0",
         "0"
        ],
        [
         "3yrs",
         "0",
         "0",
         "0",
         "0",
         "0"
        ],
        [
         "40",
         "0",
         "0",
         "0",
         "0",
         "0"
        ],
        [
         "45",
         "0",
         "0",
         "0",
         "0",
         "0"
        ],
        [
         "48",
         "0",
         "0",
         "0",
         "0",
         "0"
        ],
        [
         "48gb",
         "0",
         "0",
         "0",
         "0",
         "0"
        ],
        [
         "4g",
         "0",
         "0",
         "0",
         "0",
         "0"
        ],
        [
         "50",
         "0",
         "0",
         "0",
         "0",
         "0"
        ],
        [
         "500",
         "0",
         "0",
         "0",
         "0",
         "0"
        ],
        [
         "500k",
         "0",
         "0",
         "0",
         "0",
         "0"
        ],
        [
         "505",
         "0",
         "0",
         "0",
         "0",
         "0"
        ],
        [
         "512kbps",
         "0",
         "0",
         "0",
         "0",
         "0"
        ],
        [
         "5minutes",
         "0",
         "0",
         "0",
         "0",
         "0"
        ],
        [
         "5star",
         "0",
         "0",
         "0",
         "0",
         "0"
        ],
        [
         "6p",
         "0",
         "0",
         "0",
         "0",
         "0"
        ],
        [
         "82",
         "0",
         "0",
         "0",
         "0",
         "0"
        ],
        [
         "86",
         "0",
         "0",
         "0",
         "0",
         "0"
        ]
       ],
       "shape": {
        "columns": 5,
        "rows": 3012
       }
      },
      "text/html": [
       "<div>\n",
       "<style scoped>\n",
       "    .dataframe tbody tr th:only-of-type {\n",
       "        vertical-align: middle;\n",
       "    }\n",
       "\n",
       "    .dataframe tbody tr th {\n",
       "        vertical-align: top;\n",
       "    }\n",
       "\n",
       "    .dataframe thead th {\n",
       "        text-align: right;\n",
       "    }\n",
       "</style>\n",
       "<table border=\"1\" class=\"dataframe\">\n",
       "  <thead>\n",
       "    <tr style=\"text-align: right;\">\n",
       "      <th></th>\n",
       "      <th>0</th>\n",
       "      <th>1</th>\n",
       "      <th>2</th>\n",
       "      <th>3</th>\n",
       "      <th>4</th>\n",
       "    </tr>\n",
       "  </thead>\n",
       "  <tbody>\n",
       "    <tr>\n",
       "      <th>000</th>\n",
       "      <td>0</td>\n",
       "      <td>0</td>\n",
       "      <td>0</td>\n",
       "      <td>0</td>\n",
       "      <td>0</td>\n",
       "    </tr>\n",
       "    <tr>\n",
       "      <th>04</th>\n",
       "      <td>0</td>\n",
       "      <td>0</td>\n",
       "      <td>0</td>\n",
       "      <td>0</td>\n",
       "      <td>0</td>\n",
       "    </tr>\n",
       "    <tr>\n",
       "      <th>0x</th>\n",
       "      <td>0</td>\n",
       "      <td>0</td>\n",
       "      <td>0</td>\n",
       "      <td>0</td>\n",
       "      <td>0</td>\n",
       "    </tr>\n",
       "    <tr>\n",
       "      <th>10</th>\n",
       "      <td>0</td>\n",
       "      <td>0</td>\n",
       "      <td>0</td>\n",
       "      <td>0</td>\n",
       "      <td>0</td>\n",
       "    </tr>\n",
       "    <tr>\n",
       "      <th>100</th>\n",
       "      <td>0</td>\n",
       "      <td>0</td>\n",
       "      <td>0</td>\n",
       "      <td>0</td>\n",
       "      <td>0</td>\n",
       "    </tr>\n",
       "    <tr>\n",
       "      <th>...</th>\n",
       "      <td>...</td>\n",
       "      <td>...</td>\n",
       "      <td>...</td>\n",
       "      <td>...</td>\n",
       "      <td>...</td>\n",
       "    </tr>\n",
       "    <tr>\n",
       "      <th>żŕ</th>\n",
       "      <td>0</td>\n",
       "      <td>0</td>\n",
       "      <td>0</td>\n",
       "      <td>0</td>\n",
       "      <td>0</td>\n",
       "    </tr>\n",
       "    <tr>\n",
       "      <th>żŕľ</th>\n",
       "      <td>0</td>\n",
       "      <td>0</td>\n",
       "      <td>0</td>\n",
       "      <td>0</td>\n",
       "      <td>0</td>\n",
       "    </tr>\n",
       "    <tr>\n",
       "      <th>žŕ</th>\n",
       "      <td>0</td>\n",
       "      <td>0</td>\n",
       "      <td>0</td>\n",
       "      <td>0</td>\n",
       "      <td>0</td>\n",
       "    </tr>\n",
       "    <tr>\n",
       "      <th>žŕľ</th>\n",
       "      <td>0</td>\n",
       "      <td>0</td>\n",
       "      <td>0</td>\n",
       "      <td>0</td>\n",
       "      <td>0</td>\n",
       "    </tr>\n",
       "    <tr>\n",
       "      <th>ˇŕ</th>\n",
       "      <td>0</td>\n",
       "      <td>0</td>\n",
       "      <td>0</td>\n",
       "      <td>0</td>\n",
       "      <td>0</td>\n",
       "    </tr>\n",
       "  </tbody>\n",
       "</table>\n",
       "<p>3012 rows × 5 columns</p>\n",
       "</div>"
      ],
      "text/plain": [
       "     0  1  2  3  4\n",
       "000  0  0  0  0  0\n",
       "04   0  0  0  0  0\n",
       "0x   0  0  0  0  0\n",
       "10   0  0  0  0  0\n",
       "100  0  0  0  0  0\n",
       "..  .. .. .. .. ..\n",
       "żŕ   0  0  0  0  0\n",
       "żŕľ  0  0  0  0  0\n",
       "žŕ   0  0  0  0  0\n",
       "žŕľ  0  0  0  0  0\n",
       "ˇŕ   0  0  0  0  0\n",
       "\n",
       "[3012 rows x 5 columns]"
      ]
     },
     "execution_count": 13,
     "metadata": {},
     "output_type": "execute_result"
    }
   ],
   "source": [
    "feature_names=vector_model.get_feature_names_out()\n",
    "training_word_counts=pd.DataFrame(training_word_counts, columns=feature_names)\n",
    "testing_word_counts=pd.DataFrame(testing_word_counts, columns=feature_names)\n",
    "training_word_counts.head().T"
   ]
  },
  {
   "cell_type": "markdown",
   "metadata": {},
   "source": [
    "## 3. EDA \n",
    "### 3.1. Baseline model performance "
   ]
  },
  {
   "cell_type": "code",
   "execution_count": 14,
   "metadata": {},
   "outputs": [
    {
     "data": {
      "text/plain": [
       "polarity\n",
       "0    414\n",
       "1    209\n",
       "Name: count, dtype: int64"
      ]
     },
     "execution_count": 14,
     "metadata": {},
     "output_type": "execute_result"
    }
   ],
   "source": [
    "training_df['polarity'].value_counts()"
   ]
  },
  {
   "cell_type": "code",
   "execution_count": 15,
   "metadata": {},
   "outputs": [
    {
     "data": {
      "text/plain": [
       "polarity\n",
       "0    170\n",
       "1     98\n",
       "Name: count, dtype: int64"
      ]
     },
     "execution_count": 15,
     "metadata": {},
     "output_type": "execute_result"
    }
   ],
   "source": [
    "testing_df['polarity'].value_counts()"
   ]
  },
  {
   "cell_type": "code",
   "execution_count": 16,
   "metadata": {},
   "outputs": [
    {
     "data": {
      "text/plain": [
       "package_name\n",
       "com.evernote                  32\n",
       "com.Slack                     32\n",
       "org.mozilla.firefox           31\n",
       "com.facebook.orca             30\n",
       "com.android.chrome            30\n",
       "com.facebook.katana           30\n",
       "com.hamropatro                29\n",
       "com.dropbox.android           29\n",
       "com.king.candycrushsaga       28\n",
       "com.supercell.clashofclans    28\n",
       "com.tencent.mm                28\n",
       "com.google.android.talk       27\n",
       "com.viber.voip                27\n",
       "com.hamrokeyboard             27\n",
       "com.linkedin.android          26\n",
       "com.imangi.templerun2         26\n",
       "com.opera.mini.native         26\n",
       "com.shirantech.kantipur       26\n",
       "com.rovio.angrybirds          25\n",
       "com.twitter.android           24\n",
       "com.whatsapp                  24\n",
       "com.uc.browser.en             21\n",
       "jabanaki.todo.todoly          17\n",
       "Name: count, dtype: int64"
      ]
     },
     "execution_count": 16,
     "metadata": {},
     "output_type": "execute_result"
    }
   ],
   "source": [
    "training_df['package_name'].value_counts()"
   ]
  },
  {
   "cell_type": "markdown",
   "metadata": {},
   "source": [
    "Accuracy of a constant '0' model "
   ]
  },
  {
   "cell_type": "code",
   "execution_count": 17,
   "metadata": {},
   "outputs": [
    {
     "name": "stdout",
     "output_type": "stream",
     "text": [
      "Testing accuracy of constant \"0\" polarity model: 63.43%\n"
     ]
    }
   ],
   "source": [
    "accuracy=((len(testing_df) - sum(testing_df['polarity'])) / len(testing_df))*100\n",
    "print(f'Testing accuracy of constant \"0\" polarity model: {accuracy:.2f}%')"
   ]
  },
  {
   "cell_type": "markdown",
   "metadata": {},
   "source": [
    "Logistic Regression Model "
   ]
  },
  {
   "cell_type": "code",
   "execution_count": 18,
   "metadata": {},
   "outputs": [
    {
     "name": "stdout",
     "output_type": "stream",
     "text": [
      "Testing accuracy of logistic regression model: 78.4%\n"
     ]
    }
   ],
   "source": [
    "model=LogisticRegression()\n",
    "model.fit(training_word_counts, training_df['polarity'])\n",
    "\n",
    "accuracy=accuracy_score(model.predict(testing_word_counts),testing_df['polarity'])\n",
    "\n",
    "print(f'Testing accuracy of logistic regression model: {accuracy*100:.1f}%')"
   ]
  },
  {
   "cell_type": "code",
   "execution_count": 19,
   "metadata": {},
   "outputs": [
    {
     "name": "stdout",
     "output_type": "stream",
     "text": [
      "[160, 466, 209, 151, 488, 228, 210, 307, 208, 477, 209, 200, 457, 463, 111, 212, 123, 130, 378, 364, 115, 181, 262, 333, 212, 220, 370, 149, 344, 43, 233, 289, 38, 160, 154, 34, 174, 110, 380, 242, 217, 184, 228, 275, 230, 237, 168, 21, 147, 429, 198, 292, 358, 395, 150, 42, 261, 302, 273, 141, 510, 165, 79, 366, 168, 198, 141, 366, 156, 288, 8, 374, 56, 423, 233, 268, 111, 148, 129, 106, 35, 195, 106, 185, 176, 286, 325, 175, 15, 125, 196, 181, 106, 164, 265, 531, 287, 81, 192, 158, 233, 53, 216, 86, 145, 167, 222, 220, 236, 389, 282, 138, 440, 198, 249, 201, 258, 161, 198, 168, 136, 209, 116, 163, 212, 342, 152, 274, 516, 160, 156, 162, 331, 224, 79, 142, 419, 115, 192, 115, 126, 443, 118, 175, 253, 314, 46, 190, 177, 257, 197, 444, 286, 404, 287, 459, 205, 217, 242, 273, 218, 219, 222, 210, 282, 465, 163, 341, 83, 157, 160, 231, 402, 500, 26, 151, 225, 155, 135, 151, 223, 133, 386, 347, 173, 202, 184, 133, 253, 269, 25, 159, 308, 53, 510, 525, 71, 211, 217, 171, 483, 535, 281, 196, 329, 43, 288, 165, 175, 215, 143, 206, 323, 20, 244, 320, 70, 128, 355, 123, 197, 285, 152, 163, 228, 235, 139, 471, 179, 284, 139, 241, 267, 474, 291, 187, 504, 395, 38, 168, 196, 211, 249, 80, 228, 376, 143, 185, 83, 351, 530, 356, 38, 26, 167, 190, 284, 101, 418, 129, 170, 373, 294, 110, 299, 52, 160, 204, 87, 221, 233, 126, 201, 92, 320, 339, 37, 416, 302, 130, 351, 164, 197, 160, 220, 171, 164, 178, 188, 131, 236, 185, 266, 537, 183, 517, 177, 273, 331, 250, 162, 557, 179, 75, 99, 233, 193, 33, 184, 203, 155, 204, 293, 70, 91, 186, 140, 175, 252, 207, 253, 65, 292, 87, 219, 266, 77, 46, 252, 418, 140, 40, 445, 243, 253, 415, 197, 186, 284, 120, 154, 481, 350, 64, 195, 120, 160, 205, 142, 199, 255, 149, 174, 291, 165, 299, 176, 228, 226, 113, 348, 109, 212, 106, 208, 117, 160, 200, 204, 163, 264, 164, 216, 139, 369, 33, 365, 189, 175, 214, 258, 227, 204, 114, 124, 137, 10, 228, 293, 87, 113, 538, 146, 298, 281, 347, 212, 344, 330, 192, 221, 119, 142, 10, 375, 232, 160, 262, 118, 166, 214, 215, 164, 305, 92, 368, 244, 167, 121, 240, 275, 246, 42, 123, 21, 370, 232, 202, 471, 342, 248, 37, 292, 481, 55, 210, 145, 189, 456, 148, 569, 514, 11, 260, 235, 142, 115, 323, 279, 177, 398, 70, 55, 122, 354, 297, 238, 194, 254, 193, 347, 190, 279, 77, 226, 164, 536, 101, 116, 175, 910, 273, 179, 540, 136, 761, 159, 360, 312, 50, 33, 234, 158, 230, 278, 270, 212, 173, 266, 828, 528, 169, 136, 301, 254, 131, 109, 188, 416, 189, 149, 254, 238, 261, 540, 387, 19, 555, 127, 66, 67, 125, 101, 260, 36, 127, 532, 265, 193, 405, 113, 348, 111, 308, 148, 251, 246, 308, 66, 301, 233, 195, 254, 100, 366, 53, 226, 419, 107, 192, 79, 209, 231, 148, 73, 299, 779, 170, 219, 38, 172, 321, 123, 506, 58, 485, 250, 82, 193, 161, 251, 11, 247, 332, 149, 114, 159, 234, 254, 170, 13, 58, 258, 234, 278, 353, 502, 164, 244, 76, 546, 175, 404, 298, 324, 215, 155, 232, 180, 137, 225, 195, 217, 138, 390, 252, 196, 220, 169, 257, 125, 434, 78, 217, 197, 234, 524, 235, 135, 457, 214, 177, 207, 263, 284, 145, 265, 225, 411, 97, 176, 256, 403]\n"
     ]
    }
   ],
   "source": [
    "lengths=training_df['review'].str.len().tolist()\n",
    "print(lengths)"
   ]
  },
  {
   "cell_type": "markdown",
   "metadata": {},
   "source": [
    "### 3.2 Review Length Distributions "
   ]
  },
  {
   "cell_type": "code",
   "execution_count": 20,
   "metadata": {},
   "outputs": [
    {
     "name": "stdout",
     "output_type": "stream",
     "text": [
      "Mean of Review length: 227\n",
      "Min count of Review length: 8\n",
      "Max count of Review length: 910\n"
     ]
    },
    {
     "data": {
      "image/png": "[encoded data removed]",
      "text/plain": [
       "<Figure size 640x480 with 1 Axes>"
      ]
     },
     "metadata": {},
     "output_type": "display_data"
    }
   ],
   "source": [
    "lengths=training_df['review'].str.len().tolist()\n",
    "print(f'Mean of Review length: {np.mean(lengths):.0f}')\n",
    "print(f'Min count of Review length: {min(lengths):.0f}')\n",
    "print(f'Max count of Review length: {max(lengths):.0f}')\n",
    "\n",
    "plt.title('Review length distribution', fontsize=20, fontweight='bold')\n",
    "plt.xlabel('Characters', fontweight='bold')\n",
    "plt.ylabel('Reviews', fontweight='bold')\n",
    "plt.hist(lengths, bins=30, color='green')\n",
    "plt.show()\n",
    "\n"
   ]
  },
  {
   "cell_type": "markdown",
   "metadata": {},
   "source": [
    "#### 3.2.1 Inspect Long reviews "
   ]
  },
  {
   "cell_type": "code",
   "execution_count": 21,
   "metadata": {},
   "outputs": [],
   "source": [
    "training_df['review_length']=lengths\n",
    "long_reviews=training_df[training_df['review_length'] > 600]"
   ]
  },
  {
   "cell_type": "code",
   "execution_count": 22,
   "metadata": {},
   "outputs": [
    {
     "name": "stdout",
     "output_type": "stream",
     "text": [
      "  ătoo slow loading webclips!!! ăno pdf support at all... (even simpler apps do that!) ă web pages that are clipped do not adjust to current window size automatically when window is shrunk or expanded, (any program does this...geez). ă highlighting? needs more colors instead of brown mustard yellow. no customer support responses either, evernote must have been taken over by students. it's not even fun to use anymore because it is slow as hell.  this is especially for serious business users. any five star ratings down here must have been given by employees under different themes. this program has really retarded over the years. they need to stick to improving their bread and butter instead of selling side junk and features that are useless. well they got my money this time, so i have to put up with it for a few more months. the lack of pdf support really is terrible for a program like this.\n"
     ]
    }
   ],
   "source": [
    "print(long_reviews['review'].iloc[0])"
   ]
  },
  {
   "cell_type": "code",
   "execution_count": 23,
   "metadata": {},
   "outputs": [
    {
     "name": "stdout",
     "output_type": "stream",
     "text": [
      "  not since the update i don't.                                  update:- it is very slow on both data (uk ee network) and wifi (all of home via bt /work network/london underground virgin network) on all devices. version number is 13.0.2036.98649 on each device.  practically unusable at present and everything was fine before upgrading.  reading other comments i'm far from the only one having problems. high and low quality images helps but it is still worse than before the upgrade.  and just discovered that previously a double tap enlarged the text sufficiently to make it readable.  now it enlarges it a tiny amount but pinch and zoom is still required.    why did you do this?  the good old adage 'if it ain't broke don't fix it absolutely comes to mind.\n"
     ]
    }
   ],
   "source": [
    "print(long_reviews['review'].iloc[1])"
   ]
  },
  {
   "cell_type": "code",
   "execution_count": 24,
   "metadata": {},
   "outputs": [
    {
     "name": "stdout",
     "output_type": "stream",
     "text": [
      " bait and switch i purchased my 3rd samsung tablet with  advertisement of free gifts, one of them being 48 additional gb cloud storage for 2 years.  the 2nd samsung tablet i bought also had this free gift and it was a nightmare to get samsung and dropbox to honor it.  so, after buying this 3rd high end tablet with the same claim of the free 48gb for 2 years in the fine print, which you can only see after purchasing the tablet, dropbox only honors the offer on the first device you purchased and you are disqualified for all future devices.  this is sleazy and bait and switch.  free= not subject to any compensation, encumbrance, repayment in kind, etc.  because of this bait and switch advertising on the part of samsung and dropbox i suggest you really find out what kind of company dropbox is before using their services.\n"
     ]
    }
   ],
   "source": [
    "print(long_reviews['review'].iloc[2])"
   ]
  },
  {
   "cell_type": "code",
   "execution_count": 26,
   "metadata": {},
   "outputs": [
    {
     "name": "stdout",
     "output_type": "stream",
     "text": [
      " the best game about they dont call this the no.1 app for nothing, its the original and best clean game about. one needs to work out how best to strike the piggy structures by flinging the birds in a sling (funny though, i thought they had wings). it is a wonderful novel idea for a game and will no doubt will continue to appeal to a wide audience for some time to come! (it's as big as what the old lemmings game was in the 1990s) it's so addictive and fun to play whilst having a good feel about it. for me beats angry birds 2 game very easily and will no doubt remain so for the near future. the only flaw in it is loads of adds and becomes so slow when connected to the internet, but thankfully, the in game adds can be binned for a small fee but it also plays fine offline.\n"
     ]
    }
   ],
   "source": [
    "print(long_reviews['review'].iloc[3])"
   ]
  },
  {
   "cell_type": "markdown",
   "metadata": {},
   "source": [
    "#### 3.2.2 Inspect Short reviews "
   ]
  },
  {
   "cell_type": "code",
   "execution_count": 29,
   "metadata": {},
   "outputs": [
    {
     "data": {
      "application/vnd.microsoft.datawrangler.viewer.v0+json": {
       "columns": [
        {
         "name": "index",
         "rawType": "int64",
         "type": "integer"
        },
        {
         "name": "package_name",
         "rawType": "object",
         "type": "string"
        },
        {
         "name": "review",
         "rawType": "object",
         "type": "string"
        },
        {
         "name": "polarity",
         "rawType": "int64",
         "type": "integer"
        },
        {
         "name": "review_length",
         "rawType": "int64",
         "type": "integer"
        }
       ],
       "conversionMethod": "pd.DataFrame",
       "ref": "4e88781c-fcd8-4124-a814-4ba501e0eea0",
       "rows": [
        [
         "755",
         "com.shirantech.kantipur",
         "  too much pop up add",
         "0",
         "21"
        ],
        [
         "761",
         "com.shirantech.kantipur",
         " aa nice",
         "1",
         "8"
        ],
        [
         "851",
         "com.hamropatro",
         "  very useful !",
         "1",
         "15"
        ],
        [
         "511",
         "com.Slack",
         "  love new material design",
         "1",
         "26"
        ],
        [
         "840",
         "com.hamropatro",
         " usefully verry  nice app",
         "1",
         "25"
        ]
       ],
       "shape": {
        "columns": 4,
        "rows": 5
       }
      },
      "text/html": [
       "<div>\n",
       "<style scoped>\n",
       "    .dataframe tbody tr th:only-of-type {\n",
       "        vertical-align: middle;\n",
       "    }\n",
       "\n",
       "    .dataframe tbody tr th {\n",
       "        vertical-align: top;\n",
       "    }\n",
       "\n",
       "    .dataframe thead th {\n",
       "        text-align: right;\n",
       "    }\n",
       "</style>\n",
       "<table border=\"1\" class=\"dataframe\">\n",
       "  <thead>\n",
       "    <tr style=\"text-align: right;\">\n",
       "      <th></th>\n",
       "      <th>package_name</th>\n",
       "      <th>review</th>\n",
       "      <th>polarity</th>\n",
       "      <th>review_length</th>\n",
       "    </tr>\n",
       "  </thead>\n",
       "  <tbody>\n",
       "    <tr>\n",
       "      <th>755</th>\n",
       "      <td>com.shirantech.kantipur</td>\n",
       "      <td>too much pop up add</td>\n",
       "      <td>0</td>\n",
       "      <td>21</td>\n",
       "    </tr>\n",
       "    <tr>\n",
       "      <th>761</th>\n",
       "      <td>com.shirantech.kantipur</td>\n",
       "      <td>aa nice</td>\n",
       "      <td>1</td>\n",
       "      <td>8</td>\n",
       "    </tr>\n",
       "    <tr>\n",
       "      <th>851</th>\n",
       "      <td>com.hamropatro</td>\n",
       "      <td>very useful !</td>\n",
       "      <td>1</td>\n",
       "      <td>15</td>\n",
       "    </tr>\n",
       "    <tr>\n",
       "      <th>511</th>\n",
       "      <td>com.Slack</td>\n",
       "      <td>love new material design</td>\n",
       "      <td>1</td>\n",
       "      <td>26</td>\n",
       "    </tr>\n",
       "    <tr>\n",
       "      <th>840</th>\n",
       "      <td>com.hamropatro</td>\n",
       "      <td>usefully verry  nice app</td>\n",
       "      <td>1</td>\n",
       "      <td>25</td>\n",
       "    </tr>\n",
       "  </tbody>\n",
       "</table>\n",
       "</div>"
      ],
      "text/plain": [
       "                package_name                      review  polarity  \\\n",
       "755  com.shirantech.kantipur         too much pop up add         0   \n",
       "761  com.shirantech.kantipur                     aa nice         1   \n",
       "851           com.hamropatro               very useful !         1   \n",
       "511                com.Slack    love new material design         1   \n",
       "840           com.hamropatro    usefully verry  nice app         1   \n",
       "\n",
       "     review_length  \n",
       "755             21  \n",
       "761              8  \n",
       "851             15  \n",
       "511             26  \n",
       "840             25  "
      ]
     },
     "execution_count": 29,
     "metadata": {},
     "output_type": "execute_result"
    }
   ],
   "source": [
    "short_reviews=training_df[training_df['review_length'] < 30]\n",
    "short_reviews.head()"
   ]
  },
  {
   "cell_type": "markdown",
   "metadata": {},
   "source": [
    "### 3.3 Feature selection "
   ]
  },
  {
   "cell_type": "code",
   "execution_count": 36,
   "metadata": {},
   "outputs": [
    {
     "name": "stdout",
     "output_type": "stream",
     "text": [
      "[1, 1, 1, 9, 3, 1, 1, 1, 1, 1, 3, 1, 1, 4, 1, 2, 1, 1, 2, 3, 1, 2, 1, 2, 1, 1, 1, 1, 2, 1, 3, 1, 2, 1, 1, 2, 1, 3, 1, 6, 1, 2, 1, 2, 1, 1, 1, 2, 1, 1, 1, 2, 1, 1, 2, 1, 1, 5, 29, 1, 4, 1, 1, 1, 1, 6, 2, 2, 1, 1, 1, 1, 10, 1, 1, 1, 2, 1, 3, 3, 1, 1, 9, 6, 1, 1, 30, 9, 1, 1, 4, 6, 1, 1, 1, 3, 1, 9, 1, 2, 1, 1, 1, 34, 1, 1, 5, 1, 1, 1, 1, 1, 1, 1, 1, 1, 1, 6, 3, 1, 2, 1, 2, 1, 1, 1, 1, 8, 3, 5, 2, 2, 1, 9, 1, 2, 1, 1, 1, 1, 40, 12, 2, 1, 2, 2, 2, 16, 1, 2, 1, 1, 2, 2, 1, 2, 15, 3, 1, 1, 1, 2, 1, 1, 318, 1, 2, 1, 7, 2, 2, 9, 5, 1, 17, 1, 1, 1, 1, 1, 1, 1, 37, 1, 2, 1, 1, 1, 1, 1, 3, 1, 1, 1, 1, 1, 1, 1, 3, 5, 1, 1, 2, 3, 4, 3, 1, 1, 1, 1, 1, 1, 1, 4, 1, 1, 1, 2, 1, 1, 4, 2, 1, 5, 1, 1, 1, 19, 1, 1, 17, 5, 1, 1, 11, 21, 1, 3, 1, 1, 1, 2, 13, 2, 5, 1, 12, 1, 3, 1, 1, 1, 1, 6, 1, 1, 1, 1, 5, 1, 4, 7, 5, 1, 5, 8, 1, 1, 1, 1, 1, 1, 1, 3, 1, 1, 1, 3, 1, 1, 1, 2, 1, 2, 1, 1, 1, 41, 4, 33, 1, 1, 1, 16, 1, 1, 1, 1, 1, 4, 16, 3, 11, 5, 1, 2, 1, 1, 2, 2, 1, 2, 1, 1, 1, 1, 1, 1, 1, 3, 2, 2, 1, 1, 1, 5, 8, 1, 10, 2, 1, 3, 1, 10, 1, 1, 3, 2, 1, 1, 1, 1, 2, 1, 1, 7, 2, 1, 1, 2, 1, 9, 1, 1, 1, 1, 2, 2, 2, 1, 1, 1, 70, 11, 15, 1, 1, 1, 3, 1, 2, 1, 9, 1, 1, 1, 10, 1, 2, 1, 1, 1, 1, 2, 3, 1, 2, 1, 1, 1, 4, 2, 1, 21, 1, 9, 3, 1, 5, 1, 2, 1, 6, 11, 1, 2, 4, 1, 1, 2, 2, 9, 1, 1, 1, 1, 2, 1, 4, 1, 3, 5, 3, 4, 1, 1, 3, 1, 1, 2, 1, 3, 4, 3, 1, 3, 1, 7, 1, 1, 1, 1, 2, 4, 1, 3, 1, 33, 7, 1, 4, 2, 2, 2, 1, 1, 1, 20, 2, 4, 2, 2, 1, 6, 4, 1, 1, 1, 1, 1, 1, 1, 1, 3, 4, 1, 4, 1, 3, 1, 2, 33, 2, 1, 1, 1, 1, 1, 2, 1, 1, 1, 1, 5, 1, 1, 1, 2, 1, 7, 4, 2, 3, 1, 1, 1, 1, 17, 5, 1, 4, 5, 6, 1, 1, 1, 3, 1, 1, 4, 5, 1, 1, 1, 1, 1, 1, 1, 1, 8, 2, 6, 2, 1, 1, 13, 7, 1, 2, 1, 8, 4, 1, 1, 1, 1, 1, 2, 1, 8, 2, 2, 6, 1, 3, 1, 2, 1, 3, 1, 5, 1, 7, 1, 1, 1, 1, 1, 4, 2, 1, 1, 1, 1, 1, 1, 1, 1, 1, 3, 1, 1, 12, 11, 30, 6, 1, 3, 1, 3, 5, 1, 1, 8, 1, 27, 1, 2, 1, 1, 5, 2, 1, 2, 2, 3, 2, 2, 1, 6, 2, 1, 1, 7, 1, 1, 1, 1, 1, 1, 3, 1, 3, 2, 1, 6, 1, 1, 2, 3, 2, 3, 3, 7, 1, 1, 5, 3, 7, 8, 4, 4, 3, 1, 1, 1, 1, 2, 2, 1, 1, 3, 6, 1, 1, 1, 1, 2, 5, 2, 1, 1, 1, 1, 2, 1, 2, 1, 1, 1, 1, 1, 1, 5, 1, 2, 1, 2, 1, 5, 1, 25, 1, 1, 1, 18, 11, 7, 1, 5, 3, 1, 1, 2, 1, 1, 1, 8, 1, 1, 4, 1, 1, 1, 1, 7, 3, 3, 1, 1, 1, 1, 1, 1, 1, 3, 9, 5, 1, 17, 1, 1, 1, 3, 2, 1, 2, 1, 1, 2, 2, 7, 1, 10, 17, 2, 1, 2, 3, 1, 15, 12, 1, 18, 1, 1, 1, 1, 2, 1, 1, 8, 1, 6, 1, 1, 1, 1, 2, 1, 5, 5, 2, 1, 1, 1, 2, 1, 1, 1, 2, 1, 1, 1, 1, 1, 1, 1, 3, 37, 63, 4, 1, 9, 1, 85, 1, 1, 10, 1, 1, 6, 1, 1, 1, 37, 5, 14, 2, 1, 1, 1, 3, 1, 1, 1, 1, 2, 4, 1, 1, 2, 6, 19, 1, 2, 2, 2, 1, 1, 1, 1, 1, 1, 1, 1, 1, 1, 1, 1, 2, 6, 20, 1, 1, 2, 22, 1, 3, 1, 1, 1, 2, 2, 2, 1, 1, 1, 1, 1, 1, 4, 1, 1, 1, 7, 7, 2, 2, 1, 1, 4, 1, 1, 12, 2, 1, 1, 2, 1, 1, 13, 5, 1, 1, 1, 1, 1, 5, 1, 1, 1, 3, 1, 3, 1, 2, 1, 2, 1, 1, 1, 16, 1, 1, 7, 1, 1, 4, 1, 1, 1, 1, 2, 2, 16, 1, 2, 6, 1, 2, 1, 9, 1, 1, 1, 1, 1, 1, 1, 2, 1, 4, 1, 1, 1, 1, 1, 2, 5, 1, 1, 1, 1, 1, 2, 2, 3, 1, 3, 1, 1, 1, 6, 36, 1, 1, 2, 8, 1, 1, 4, 2, 3, 1, 1, 6, 4, 1, 5, 15, 5, 15, 4, 2, 1, 1, 2, 7, 1, 11, 1, 1, 25, 18, 1, 10, 1, 2, 5, 1, 1, 1, 1, 1, 3, 2, 3, 7, 13, 1, 5, 1, 17, 1, 3, 34, 1, 1, 102, 12, 2, 2, 1, 1, 1, 1, 1, 1, 1, 1, 1, 7, 3, 2, 2, 1, 6, 6, 5, 1, 1, 9, 7, 2, 3, 2, 3, 4, 2, 4, 1, 1, 1, 1, 1, 2, 4, 1, 1, 1, 1, 1, 20, 1, 2, 5, 1, 1, 2, 5, 14, 4, 10, 1, 1, 9, 1, 1, 3, 1, 3, 23, 9, 1, 5, 1, 6, 2, 2, 1, 1, 3, 1, 1, 10, 3, 112, 2, 7, 1, 1, 1, 1, 1, 1, 1, 1, 6, 3, 1, 1, 1, 1, 11, 25, 1, 1, 5, 2, 1, 1, 1, 1, 1, 1, 5, 4, 2, 2, 2, 3, 2, 1, 2, 1, 1, 8, 20, 7, 8, 6, 94, 61, 16, 1, 1, 2, 3, 1, 1, 1, 1, 1, 1, 1, 1, 2, 1, 93, 1, 1, 1, 1, 2, 2, 1, 10, 1, 1, 1, 3, 1, 1, 2, 1, 3, 3, 1, 22, 1, 1, 1, 1, 1, 1, 6, 4, 1, 2, 6, 1, 3, 2, 1, 1, 1, 5, 1, 1, 1, 14, 2, 1, 5, 2, 11, 1, 9, 1, 1, 9, 11, 2, 4, 2, 1, 2, 1, 1, 2, 12, 2, 1, 2, 3, 1, 23, 1, 4, 3, 3, 1, 8, 2, 1, 2, 1, 2, 1, 3, 2, 14, 6, 1, 6, 1, 1, 4, 2, 4, 1, 7, 1, 3, 1, 1, 1, 1, 1, 1, 1, 4, 3, 1, 2, 2, 1, 13, 3, 1, 1, 3, 1, 1, 1, 1, 13, 1, 1, 5, 2, 2, 13, 1, 5, 1, 1, 1, 1, 1, 1, 1, 1, 1, 1, 1, 1, 1, 2, 5, 5, 10, 1, 1, 3, 1, 1, 1, 1, 1, 3, 1, 6, 10, 9, 2, 1, 1, 1, 1, 3, 1, 5, 1, 4, 1, 11, 5, 4, 3, 1, 4, 1, 1, 1, 8, 1, 2, 1, 1, 1, 1, 1, 1, 1, 1, 1, 2, 2, 1, 1, 1, 1, 1, 5, 1, 1, 2, 1, 1, 1, 1, 3, 1, 2, 2, 1, 15, 1, 11, 5, 1, 1, 2, 13, 2, 1, 2, 1, 1, 2, 1, 10, 2, 3, 16, 1, 1, 1, 2, 1, 1, 1, 2, 1, 3, 1, 1, 1, 1, 2, 1, 8, 1, 26, 25, 1, 1, 4, 1, 1, 2, 1, 1, 2, 1, 1, 1, 1, 2, 1, 1, 6, 1, 1, 1, 1, 1, 1, 1, 1, 1, 1, 1, 83, 1, 3, 1, 14, 6, 26, 1, 1, 1, 1, 1, 2, 1, 3, 1, 1, 3, 3, 11, 1, 2, 2, 2, 1, 1, 33, 1, 1, 2, 1, 1, 5, 1, 1, 5, 1, 1, 1, 1, 8, 1, 2, 1, 3, 1, 1, 3, 8, 19, 1, 1, 1, 2, 4, 1, 2, 2, 1, 9, 1, 1, 1, 1, 21, 2, 4, 1, 1, 2, 13, 12, 9, 1, 1, 97, 7, 2, 2, 1, 1, 1, 1, 1, 7, 1, 8, 9, 4, 4, 1, 12, 1, 2, 4, 1, 9, 5, 3, 2, 24, 25, 4, 17, 8, 1, 1, 4, 2, 6, 16, 5, 1, 10, 3, 1, 2, 1, 2, 1, 17, 22, 1, 20, 2, 8, 6, 1, 2, 1, 9, 2, 2, 4, 1, 3, 4, 1, 12, 17, 4, 1, 1, 52, 8, 2, 3, 4, 2, 1, 6, 2, 4, 2, 1, 2, 1, 1, 1, 1, 5, 1, 5, 60, 11, 9, 2, 4, 1, 2, 3, 1, 2, 1, 6, 1, 1, 1, 1, 1, 1, 1, 1, 1, 1, 2, 1, 1, 1, 1, 1, 3, 2, 7, 1, 1, 1, 1, 4, 1, 2, 1, 3, 1, 1, 1, 2, 1, 1, 1, 8, 1, 2, 1, 9, 2, 35, 32, 6, 2, 30, 1, 1, 1, 1, 3, 1, 1, 2, 1, 3, 1, 1, 1, 4, 1, 15, 1, 1, 1, 1, 5, 1, 1, 2, 11, 4, 2, 5, 2, 1, 1, 1, 3, 2, 1, 26, 1, 1, 13, 1, 1, 1, 1, 2, 5, 1, 1, 14, 1, 2, 6, 4, 1, 1, 1, 1, 1, 1, 5, 1, 5, 3, 1, 1, 1, 1, 1, 5, 5, 1, 2, 1, 6, 1, 1, 3, 1, 4, 2, 1, 1, 1, 2, 1, 1, 1, 1, 1, 1, 1, 1, 1, 1, 3, 1, 3, 1, 2, 1, 1, 1, 3, 1, 26, 3, 1, 1, 21, 1, 1, 2, 2, 22, 5, 12, 2, 1, 100, 1, 3, 1, 18, 1, 1, 2, 2, 30, 1, 4, 2, 1, 2, 1, 1, 1, 1, 25, 2, 2, 14, 3, 1, 3, 1, 19, 12, 2, 4, 1, 2, 1, 6, 2, 1, 1, 1, 1, 1, 2, 1, 2, 1, 1, 2, 2, 3, 1, 9, 2, 9, 6, 34, 4, 4, 1, 1, 1, 1, 1, 6, 15, 1, 1, 1, 1, 54, 1, 6, 4, 8, 18, 4, 1, 4, 1, 1, 1, 41, 18, 7, 1, 4, 1, 5, 2, 4, 2, 1, 1, 1, 1, 1, 1, 8, 1, 2, 2, 1, 1, 1, 3, 27, 21, 5, 1, 1, 1, 1, 1, 1, 1, 1, 4, 1, 4, 1, 4, 1, 1, 3, 1, 1, 16, 1, 1, 2, 1, 1, 1, 1, 1, 4, 1, 1, 13, 1, 5, 1, 1, 1, 2, 36, 1, 1, 2, 1, 7, 4, 4, 2, 1, 1, 1, 1, 13, 2, 4, 1, 1, 1, 63, 5, 9, 15, 6, 2, 7, 1, 5, 5, 1, 1, 2, 1, 1, 1, 5, 1, 1, 1, 2, 3, 1, 2, 1, 7, 1, 45, 1, 4, 7, 5, 13, 2, 2, 1, 1, 1, 13, 2, 1, 1, 2, 24, 6, 2, 2, 1, 9, 1, 11, 2, 1, 1, 1, 1, 1, 1, 7, 1, 1, 22, 1, 1, 12, 1, 6, 2, 1, 1, 2, 1, 1, 1, 1, 1, 1, 1, 1, 1, 1, 12, 1, 1, 9, 1, 3, 1, 9, 6, 1, 1, 1, 1, 3, 2, 2, 2, 33, 2, 9, 2, 1, 1, 5, 1, 3, 1, 9, 1, 9, 1, 1, 1, 2, 1, 1, 2, 9, 1, 1, 1, 2, 1, 1, 1, 4, 3, 1, 1, 1, 2, 5, 3, 1, 1, 4, 2, 1, 1, 1, 1, 4, 1, 1, 1, 6, 2, 1, 2, 3, 1, 2, 1, 2, 1, 1, 9, 1, 2, 2, 3, 1, 1, 1, 1, 13, 3, 11, 1, 2, 2, 5, 1, 1, 7, 2, 7, 1, 1, 54, 1, 11, 1, 1, 1, 5, 5, 2, 11, 11, 2, 1, 1, 1, 4, 1, 1, 1, 2, 1, 1, 1, 2, 1, 3, 1, 9, 2, 1, 1, 1, 4, 1, 9, 7, 2, 1, 2, 1, 1, 1, 3, 3, 1, 1, 2, 1, 8, 1, 1, 2, 3, 3, 1, 1, 4, 1, 2, 1, 1, 1, 2, 2, 1, 1, 1, 6, 1, 1, 3, 7, 1, 3, 1, 7, 2, 1, 1, 2, 1, 7, 1, 1, 1, 3, 1, 3, 2, 1, 4, 3, 1, 1, 2, 2, 1, 4, 1, 1, 1, 1, 1, 1, 5, 1, 1, 1, 1, 5, 1, 1, 1, 2, 1, 1, 1, 6, 2, 3, 1, 22, 1, 2, 2, 1, 1, 1, 1, 2, 2, 1, 3, 2, 1, 4, 1, 2, 1, 1, 1, 4, 1, 1, 1, 2, 3, 2, 2, 9, 8, 2, 1, 1, 1, 2, 1, 3, 1, 1, 3, 1, 4, 2, 2, 5, 19, 1, 1, 1, 1, 11, 10, 1, 5, 2, 1, 14, 9, 25, 1, 1, 1, 1, 1, 1, 2, 1, 30, 1, 1, 1, 9, 5, 1, 1, 2, 2, 1, 24, 2, 3, 1, 1, 6, 1, 3, 1, 1, 2, 2, 1, 9, 1, 8, 3, 1, 1, 1, 1, 39, 2, 5, 1, 4, 10, 1, 5, 1, 1, 1, 1, 6, 5, 11, 3, 1, 9, 5, 7, 1, 2, 1, 1, 5, 2, 1, 2, 4, 2, 8, 1, 1, 1, 1, 1, 2, 5, 1, 1, 1, 1, 1, 10, 5, 14, 1, 1, 1, 5, 3, 1, 1, 1, 1, 1, 1, 2, 9, 2, 1, 1, 1, 6, 3, 1, 1, 1, 1, 8, 4, 1, 1, 13, 1, 1, 2, 1, 3, 3, 1, 1, 1, 1, 2, 1, 1, 27, 4, 1, 3, 2, 1, 11, 3, 4, 1, 5, 3, 1, 12, 1, 1, 1, 1, 3, 1, 2, 2, 2, 3, 4, 2, 1, 1, 1, 2, 2, 15, 1, 1, 2, 3, 1, 1, 1, 8, 1, 1, 5, 1, 2, 1, 1, 1, 3, 1, 1, 1, 4, 22, 1, 1, 1, 1, 1, 3, 1, 1, 1, 1, 1, 2, 4, 1, 2, 1, 2, 27, 43, 13, 6, 3, 3, 1, 1, 1, 8, 6, 1, 4, 1, 1, 3, 1, 1, 2, 1, 4, 1, 19, 11, 1, 5, 12, 7, 2, 1, 1, 3, 2, 1, 1, 1, 3, 1, 1, 1, 1, 2, 2, 1, 1, 1, 4, 1, 2, 1, 5, 1, 1, 2, 1, 1, 2, 1, 1, 1, 1, 2, 2, 1, 4, 20, 3, 6, 1, 1, 1, 8, 1, 1, 5, 1, 1, 1, 1, 1, 1, 1, 3, 1, 7, 2, 1, 24, 10, 5, 1, 2, 1, 10, 1, 1, 1, 1, 2, 1, 1, 1, 1, 3, 1, 1, 15, 3, 1, 1, 1, 1, 14, 1, 1, 1, 2, 1, 2, 1, 19, 1, 1, 14, 1, 12, 5, 2, 5, 1, 18, 6, 3, 3, 1, 1, 2, 1, 1, 1, 1, 1, 3, 1, 1, 2, 1, 2, 12, 2, 1, 7, 3, 3, 1, 1, 6, 1, 3, 7, 1, 20, 1, 1, 1, 1, 1, 1, 1, 15, 2, 1, 18, 1, 5, 11, 3, 1, 2, 1, 20, 27, 29, 2, 2, 1, 1, 1, 10, 1, 1, 1, 1, 1, 1, 1, 1, 1, 1, 1, 2, 1, 3, 87, 3, 1, 24, 1, 2, 2, 1, 1, 1, 1, 2, 1, 1, 1, 1, 1, 1, 2, 1, 2, 1, 2, 1, 1, 1, 5, 5, 1, 2, 1, 1, 1, 5, 6, 1, 1, 2, 2, 1, 2, 1, 1, 1, 1, 1, 1, 2, 1, 1, 1, 1, 19, 1, 5, 1, 1, 7, 1, 1, 1, 1, 1, 35, 9, 1, 1, 9, 1, 2, 2, 2, 8, 4, 4, 17, 13, 2, 2, 7, 3, 11, 1, 1, 1, 1, 2, 10, 1, 1, 1, 11, 2, 1, 1, 1, 1, 1, 1, 1, 1, 1, 1, 2, 1, 6, 1, 1, 1, 13, 10, 4, 2, 1, 1, 5, 1, 1, 1, 3, 1, 2, 1, 1, 4, 4, 1, 1, 124, 13, 19, 5, 1, 13, 4, 3, 4, 2, 3, 1, 2, 3, 1, 6, 1, 2, 2, 1, 3, 84, 42, 29, 1, 1, 8, 16, 1, 9, 1, 44, 2, 1, 6, 1, 1, 2, 1, 1, 1, 27, 3, 1, 2, 1, 49, 3, 1, 1, 18, 1, 1, 35, 10, 2, 14, 1, 7, 1, 4, 1, 1, 1, 1, 3, 3, 9, 1, 1, 1, 1, 10, 7, 1, 1, 1, 8, 1, 1, 2, 45, 5, 2, 1, 1, 1, 2, 1, 1, 2, 1, 5, 4, 1, 36, 4, 1, 1, 21, 1, 3, 3, 5, 8, 22, 11, 2, 1, 1, 1, 3, 13, 1, 1, 1, 2, 2, 1, 3, 1, 2, 15, 3, 2, 14, 1, 2, 5, 1, 1, 1, 1, 1, 14, 1, 1, 1, 27, 4, 6, 1, 5, 8, 58, 7, 27, 38, 4, 2, 8, 8, 4, 1, 4, 1, 1, 7, 3, 1, 2, 10, 6, 2, 1, 1, 1, 3, 1, 1, 3, 1, 2, 1, 1, 1, 1, 4, 14, 1, 2, 2, 2, 1, 1, 1, 1, 1, 1, 1, 2, 1, 1, 1, 4, 1, 48, 3, 6, 5, 7, 1, 7, 6, 25, 6, 1]\n"
     ]
    }
   ],
   "source": [
    "word_counts=training_word_counts.sum().tolist()\n",
    "print(word_counts)"
   ]
  },
  {
   "cell_type": "code",
   "execution_count": 37,
   "metadata": {},
   "outputs": [
    {
     "data": {
      "image/png": "[encoded data removed]",
      "text/plain": [
       "<Figure size 640x480 with 1 Axes>"
      ]
     },
     "metadata": {},
     "output_type": "display_data"
    }
   ],
   "source": [
    "plt.title('Word count distribution', fontsize=20, fontweight='bold')\n",
    "plt.xlabel('Count', fontweight='bold')\n",
    "plt.ylabel('Words', fontweight='bold')\n",
    "plt.hist(word_counts, bins=30, color='green')\n",
    "plt.yscale('log')\n",
    "plt.show()"
   ]
  },
  {
   "cell_type": "markdown",
   "metadata": {},
   "source": [
    "## 4. Model comparison "
   ]
  },
  {
   "cell_type": "code",
   "execution_count": 39,
   "metadata": {},
   "outputs": [],
   "source": [
    "cross_val_scores={'Model': [], 'Score': []}"
   ]
  },
  {
   "cell_type": "markdown",
   "metadata": {},
   "source": [
    "### 4.1 Gaussian Naive Bayes "
   ]
  },
  {
   "cell_type": "code",
   "execution_count": 40,
   "metadata": {},
   "outputs": [
    {
     "name": "stdout",
     "output_type": "stream",
     "text": [
      "Cross-validation accuracy: 75.0 +/- 2.8%\n"
     ]
    }
   ],
   "source": [
    "scores=cross_val_score(GaussianNB(), training_word_counts,\n",
    "    training_df['polarity'], cv=7, n_jobs=-1)\n",
    "\n",
    "cross_val_scores['Model'].extend(['Gaussian Naive Bayes']*len(scores))\n",
    "cross_val_scores['Score'].extend(scores*100)\n",
    "\n",
    "print(f'Cross-validation accuracy: {np.mean(scores)*100:.1f} +/- {np.std(scores)*100:.1f}%')"
   ]
  },
  {
   "cell_type": "markdown",
   "metadata": {},
   "source": [
    "### 4.2 Multinomial Naive Bayes "
   ]
  },
  {
   "cell_type": "code",
   "execution_count": 41,
   "metadata": {},
   "outputs": [
    {
     "name": "stdout",
     "output_type": "stream",
     "text": [
      "Cross-validation accuracy: 81.5 +/- 4.9%\n"
     ]
    }
   ],
   "source": [
    "scores=cross_val_score(MultinomialNB(), training_word_counts,\n",
    "    training_df['polarity'], cv=7, n_jobs=-1)\n",
    "\n",
    "cross_val_scores['Model'].extend(['Multinomial Naive Bayes']*len(scores))\n",
    "cross_val_scores['Score'].extend(scores*100)\n",
    "\n",
    "print(f'Cross-validation accuracy: {np.mean(scores)*100:.1f} +/- {np.std(scores)*100:.1f}%')"
   ]
  },
  {
   "cell_type": "markdown",
   "metadata": {},
   "source": [
    "### 4.3 Bernoulli Naive Bayes "
   ]
  },
  {
   "cell_type": "code",
   "execution_count": 42,
   "metadata": {},
   "outputs": [
    {
     "name": "stdout",
     "output_type": "stream",
     "text": [
      "Cross-validation accuracy: 74.5 +/- 4.1%\n"
     ]
    }
   ],
   "source": [
    "scores=cross_val_score(BernoulliNB(), training_word_counts,\n",
    "    training_df['polarity'], cv=7, n_jobs=-1)\n",
    "\n",
    "cross_val_scores['Model'].extend(['Bernoulli Naive Bayes']*len(scores))\n",
    "cross_val_scores['Score'].extend(scores*100)\n",
    "\n",
    "print(f'Cross-validation accuracy: {np.mean(scores)*100:.1f} +/- {np.std(scores)*100:.1f}%')"
   ]
  },
  {
   "cell_type": "code",
   "execution_count": 45,
   "metadata": {},
   "outputs": [
    {
     "name": "stdout",
     "output_type": "stream",
     "text": [
      "{'Model': ['Gaussian Naive Bayes', 'Gaussian Naive Bayes', 'Gaussian Naive Bayes', 'Gaussian Naive Bayes', 'Gaussian Naive Bayes', 'Gaussian Naive Bayes', 'Gaussian Naive Bayes', 'Multinomial Naive Bayes', 'Multinomial Naive Bayes', 'Multinomial Naive Bayes', 'Multinomial Naive Bayes', 'Multinomial Naive Bayes', 'Multinomial Naive Bayes', 'Multinomial Naive Bayes', 'Bernoulli Naive Bayes', 'Bernoulli Naive Bayes', 'Bernoulli Naive Bayes', 'Bernoulli Naive Bayes', 'Bernoulli Naive Bayes', 'Bernoulli Naive Bayes', 'Bernoulli Naive Bayes'], 'Score': [np.float64(74.15730337078652), np.float64(73.03370786516854), np.float64(77.52808988764045), np.float64(76.40449438202246), np.float64(75.28089887640449), np.float64(78.65168539325843), np.float64(69.66292134831461), np.float64(78.65168539325843), np.float64(89.8876404494382), np.float64(75.28089887640449), np.float64(80.89887640449437), np.float64(85.39325842696628), np.float64(76.40449438202246), np.float64(84.26966292134831), np.float64(78.65168539325843), np.float64(80.89887640449437), np.float64(68.53932584269663), np.float64(73.03370786516854), np.float64(73.03370786516854), np.float64(70.78651685393258), np.float64(76.40449438202246)]}\n"
     ]
    }
   ],
   "source": [
    "print(cross_val_scores)"
   ]
  },
  {
   "cell_type": "markdown",
   "metadata": {},
   "source": [
    "### 4.4 Cross-validation performance "
   ]
  },
  {
   "cell_type": "code",
   "execution_count": 47,
   "metadata": {},
   "outputs": [
    {
     "data": {
      "image/png": "[encoded data removed]",
      "text/plain": [
       "<Figure size 640x480 with 1 Axes>"
      ]
     },
     "metadata": {},
     "output_type": "display_data"
    }
   ],
   "source": [
    "sns.boxplot(pd.DataFrame.from_dict(cross_val_scores), x='Model', y='Score')\n",
    "plt.title('Model cross-validation performance comparison', fontsize=20, fontweight='bold')\n",
    "plt.ylabel('Accuracy (%)', fontweight='bold')\n",
    "plt.xticks(rotation=45, fontweight='bold')\n",
    "plt.show()"
   ]
  },
  {
   "cell_type": "markdown",
   "metadata": {},
   "source": [
    "## 5. Final model evaluation "
   ]
  },
  {
   "cell_type": "code",
   "execution_count": 55,
   "metadata": {},
   "outputs": [
    {
     "data": {
      "image/png": "[encoded data removed]",
      "text/plain": [
       "<Figure size 640x480 with 2 Axes>"
      ]
     },
     "metadata": {},
     "output_type": "display_data"
    }
   ],
   "source": [
    "model=MultinomialNB()\n",
    "model.fit(training_word_counts, training_df['polarity'])\n",
    "testing_predictions=model.predict(testing_word_counts)\n",
    "accuracy=accuracy_score(testing_predictions, testing_df['polarity'])*100\n",
    "\n",
    "# Plot the confusion matrix\n",
    "cm=confusion_matrix(testing_df['polarity'], testing_predictions, normalize='true')\n",
    "cm_disp=ConfusionMatrixDisplay(confusion_matrix=cm)\n",
    "_=cm_disp.plot()\n",
    "\n",
    "plt.title(f'Test set performance\\noverall accuracy: {accuracy:.1f}%')\n",
    "plt.xlabel('Predicted outcome')\n",
    "plt.ylabel('True outcome')\n",
    "plt.show()"
   ]
  }
 ],
 "metadata": {
  "kernelspec": {
   "display_name": "Python 3",
   "language": "python",
   "name": "python3"
  },
  "language_info": {
   "codemirror_mode": {
    "name": "ipython",
    "version": 3
   },
   "file_extension": ".py",
   "mimetype": "text/x-python",
   "name": "python",
   "nbconvert_exporter": "python",
   "pygments_lexer": "ipython3",
   "version": "3.11.4"
  }
 },
 "nbformat": 4,
 "nbformat_minor": 2
}
